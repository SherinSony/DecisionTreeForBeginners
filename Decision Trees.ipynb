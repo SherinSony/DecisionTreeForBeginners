{
 "cells": [
  {
   "cell_type": "markdown",
   "metadata": {},
   "source": [
    "## Decision Trees"
   ]
  },
  {
   "cell_type": "code",
   "execution_count": 1,
   "metadata": {},
   "outputs": [],
   "source": [
    "import pandas as pd\n",
    "import numpy as np\n",
    "import graphviz\n",
    "import pydotplus\n",
    "from sklearn.tree import DecisionTreeRegressor"
   ]
  },
  {
   "cell_type": "code",
   "execution_count": 2,
   "metadata": {},
   "outputs": [],
   "source": [
    "from sklearn.model_selection import GridSearchCV,train_test_split\n",
    "import warnings\n",
    "warnings.filterwarnings('ignore')"
   ]
  },
  {
   "cell_type": "code",
   "execution_count": 3,
   "metadata": {},
   "outputs": [],
   "source": [
    "import matplotlib.pyplot as plt"
   ]
  },
  {
   "cell_type": "markdown",
   "metadata": {},
   "source": [
    "### Regression: \n",
    "\n",
    "Decision Trees for Regression\n",
    "The dataset petrol_consumption.csv is taken from FSU dataset repository (http://people.sc.fsu.edu/~jburkardt/datasets/regression/x16.txt \n",
    "\n",
    "I,  the index;\n",
    "A0, 1;\n",
    "A1, the petrol tax;\n",
    "A2, the per capita income;\n",
    "A3, the number of miles of paved highway;\n",
    "A4, the proportion of drivers;\n",
    "B,  the consumption of petrol.\n",
    "\n",
    "For this question, use this dataset to try and predict gas consumptions (in millions of gallons) in 48 US states based upon gas tax (in cents), per capita income (dollars), paved highways (in miles) and the proportion of population with a drivers license.\n",
    "\n",
    "Use Decision Trees to build a regressor for the give data. Use Grid Search to find the optimal value for the hyperparameters, and evaluate your model on the appropriate metrics.\n"
   ]
  },
  {
   "cell_type": "code",
   "execution_count": 4,
   "metadata": {},
   "outputs": [],
   "source": [
    "a=pd.read_csv(r\"D:\\petrol_consumption.csv\")"
   ]
  },
  {
   "cell_type": "code",
   "execution_count": 5,
   "metadata": {},
   "outputs": [
    {
     "data": {
      "text/plain": [
       "(48, 5)"
      ]
     },
     "execution_count": 5,
     "metadata": {},
     "output_type": "execute_result"
    }
   ],
   "source": [
    "a.shape #only 48 rows !"
   ]
  },
  {
   "cell_type": "code",
   "execution_count": 6,
   "metadata": {},
   "outputs": [
    {
     "data": {
      "text/html": [
       "<div>\n",
       "<style scoped>\n",
       "    .dataframe tbody tr th:only-of-type {\n",
       "        vertical-align: middle;\n",
       "    }\n",
       "\n",
       "    .dataframe tbody tr th {\n",
       "        vertical-align: top;\n",
       "    }\n",
       "\n",
       "    .dataframe thead th {\n",
       "        text-align: right;\n",
       "    }\n",
       "</style>\n",
       "<table border=\"1\" class=\"dataframe\">\n",
       "  <thead>\n",
       "    <tr style=\"text-align: right;\">\n",
       "      <th></th>\n",
       "      <th>Petrol_tax</th>\n",
       "      <th>Average_income</th>\n",
       "      <th>Paved_Highways</th>\n",
       "      <th>Population_Driver_licence(%)</th>\n",
       "      <th>Petrol_Consumption</th>\n",
       "    </tr>\n",
       "  </thead>\n",
       "  <tbody>\n",
       "    <tr>\n",
       "      <th>0</th>\n",
       "      <td>9.0</td>\n",
       "      <td>3571</td>\n",
       "      <td>1976</td>\n",
       "      <td>0.525</td>\n",
       "      <td>541</td>\n",
       "    </tr>\n",
       "    <tr>\n",
       "      <th>1</th>\n",
       "      <td>9.0</td>\n",
       "      <td>4092</td>\n",
       "      <td>1250</td>\n",
       "      <td>0.572</td>\n",
       "      <td>524</td>\n",
       "    </tr>\n",
       "    <tr>\n",
       "      <th>2</th>\n",
       "      <td>9.0</td>\n",
       "      <td>3865</td>\n",
       "      <td>1586</td>\n",
       "      <td>0.580</td>\n",
       "      <td>561</td>\n",
       "    </tr>\n",
       "    <tr>\n",
       "      <th>3</th>\n",
       "      <td>7.5</td>\n",
       "      <td>4870</td>\n",
       "      <td>2351</td>\n",
       "      <td>0.529</td>\n",
       "      <td>414</td>\n",
       "    </tr>\n",
       "    <tr>\n",
       "      <th>4</th>\n",
       "      <td>8.0</td>\n",
       "      <td>4399</td>\n",
       "      <td>431</td>\n",
       "      <td>0.544</td>\n",
       "      <td>410</td>\n",
       "    </tr>\n",
       "  </tbody>\n",
       "</table>\n",
       "</div>"
      ],
      "text/plain": [
       "   Petrol_tax  Average_income  Paved_Highways  Population_Driver_licence(%)  \\\n",
       "0         9.0            3571            1976                         0.525   \n",
       "1         9.0            4092            1250                         0.572   \n",
       "2         9.0            3865            1586                         0.580   \n",
       "3         7.5            4870            2351                         0.529   \n",
       "4         8.0            4399             431                         0.544   \n",
       "\n",
       "   Petrol_Consumption  \n",
       "0                 541  \n",
       "1                 524  \n",
       "2                 561  \n",
       "3                 414  \n",
       "4                 410  "
      ]
     },
     "execution_count": 6,
     "metadata": {},
     "output_type": "execute_result"
    }
   ],
   "source": [
    "a.head()"
   ]
  },
  {
   "cell_type": "code",
   "execution_count": 7,
   "metadata": {},
   "outputs": [
    {
     "data": {
      "text/plain": [
       "Petrol_tax                      0\n",
       "Average_income                  0\n",
       "Paved_Highways                  0\n",
       "Population_Driver_licence(%)    0\n",
       "Petrol_Consumption              0\n",
       "dtype: int64"
      ]
     },
     "execution_count": 7,
     "metadata": {},
     "output_type": "execute_result"
    }
   ],
   "source": [
    "a.isna().sum() #no nulls"
   ]
  },
  {
   "cell_type": "code",
   "execution_count": 8,
   "metadata": {},
   "outputs": [
    {
     "data": {
      "text/html": [
       "<div>\n",
       "<style scoped>\n",
       "    .dataframe tbody tr th:only-of-type {\n",
       "        vertical-align: middle;\n",
       "    }\n",
       "\n",
       "    .dataframe tbody tr th {\n",
       "        vertical-align: top;\n",
       "    }\n",
       "\n",
       "    .dataframe thead th {\n",
       "        text-align: right;\n",
       "    }\n",
       "</style>\n",
       "<table border=\"1\" class=\"dataframe\">\n",
       "  <thead>\n",
       "    <tr style=\"text-align: right;\">\n",
       "      <th></th>\n",
       "      <th>Petrol_tax</th>\n",
       "      <th>Average_income</th>\n",
       "      <th>Paved_Highways</th>\n",
       "      <th>Population_Driver_licence(%)</th>\n",
       "      <th>Petrol_Consumption</th>\n",
       "    </tr>\n",
       "  </thead>\n",
       "  <tbody>\n",
       "    <tr>\n",
       "      <th>count</th>\n",
       "      <td>48.000000</td>\n",
       "      <td>48.000000</td>\n",
       "      <td>48.000000</td>\n",
       "      <td>48.000000</td>\n",
       "      <td>48.000000</td>\n",
       "    </tr>\n",
       "    <tr>\n",
       "      <th>mean</th>\n",
       "      <td>7.668333</td>\n",
       "      <td>4241.833333</td>\n",
       "      <td>5565.416667</td>\n",
       "      <td>0.570333</td>\n",
       "      <td>576.770833</td>\n",
       "    </tr>\n",
       "    <tr>\n",
       "      <th>std</th>\n",
       "      <td>0.950770</td>\n",
       "      <td>573.623768</td>\n",
       "      <td>3491.507166</td>\n",
       "      <td>0.055470</td>\n",
       "      <td>111.885816</td>\n",
       "    </tr>\n",
       "    <tr>\n",
       "      <th>min</th>\n",
       "      <td>5.000000</td>\n",
       "      <td>3063.000000</td>\n",
       "      <td>431.000000</td>\n",
       "      <td>0.451000</td>\n",
       "      <td>344.000000</td>\n",
       "    </tr>\n",
       "    <tr>\n",
       "      <th>25%</th>\n",
       "      <td>7.000000</td>\n",
       "      <td>3739.000000</td>\n",
       "      <td>3110.250000</td>\n",
       "      <td>0.529750</td>\n",
       "      <td>509.500000</td>\n",
       "    </tr>\n",
       "    <tr>\n",
       "      <th>50%</th>\n",
       "      <td>7.500000</td>\n",
       "      <td>4298.000000</td>\n",
       "      <td>4735.500000</td>\n",
       "      <td>0.564500</td>\n",
       "      <td>568.500000</td>\n",
       "    </tr>\n",
       "    <tr>\n",
       "      <th>75%</th>\n",
       "      <td>8.125000</td>\n",
       "      <td>4578.750000</td>\n",
       "      <td>7156.000000</td>\n",
       "      <td>0.595250</td>\n",
       "      <td>632.750000</td>\n",
       "    </tr>\n",
       "    <tr>\n",
       "      <th>max</th>\n",
       "      <td>10.000000</td>\n",
       "      <td>5342.000000</td>\n",
       "      <td>17782.000000</td>\n",
       "      <td>0.724000</td>\n",
       "      <td>968.000000</td>\n",
       "    </tr>\n",
       "  </tbody>\n",
       "</table>\n",
       "</div>"
      ],
      "text/plain": [
       "       Petrol_tax  Average_income  Paved_Highways  \\\n",
       "count   48.000000       48.000000       48.000000   \n",
       "mean     7.668333     4241.833333     5565.416667   \n",
       "std      0.950770      573.623768     3491.507166   \n",
       "min      5.000000     3063.000000      431.000000   \n",
       "25%      7.000000     3739.000000     3110.250000   \n",
       "50%      7.500000     4298.000000     4735.500000   \n",
       "75%      8.125000     4578.750000     7156.000000   \n",
       "max     10.000000     5342.000000    17782.000000   \n",
       "\n",
       "       Population_Driver_licence(%)  Petrol_Consumption  \n",
       "count                     48.000000           48.000000  \n",
       "mean                       0.570333          576.770833  \n",
       "std                        0.055470          111.885816  \n",
       "min                        0.451000          344.000000  \n",
       "25%                        0.529750          509.500000  \n",
       "50%                        0.564500          568.500000  \n",
       "75%                        0.595250          632.750000  \n",
       "max                        0.724000          968.000000  "
      ]
     },
     "execution_count": 8,
     "metadata": {},
     "output_type": "execute_result"
    }
   ],
   "source": [
    "a.describe()"
   ]
  },
  {
   "cell_type": "code",
   "execution_count": 9,
   "metadata": {},
   "outputs": [],
   "source": [
    "from statsmodels.stats.outliers_influence import variance_inflation_factor"
   ]
  },
  {
   "cell_type": "code",
   "execution_count": 10,
   "metadata": {},
   "outputs": [],
   "source": [
    "import seaborn as sb"
   ]
  },
  {
   "cell_type": "code",
   "execution_count": 11,
   "metadata": {
    "scrolled": false
   },
   "outputs": [
    {
     "data": {
      "text/plain": [
       "<matplotlib.axes._subplots.AxesSubplot at 0x20d0f07a320>"
      ]
     },
     "execution_count": 11,
     "metadata": {},
     "output_type": "execute_result"
    },
    {
     "data": {
      "image/png": "[encoded data removed]",
      "text/plain": [
       "<Figure size 432x288 with 2 Axes>"
      ]
     },
     "metadata": {},
     "output_type": "display_data"
    }
   ],
   "source": [
    "# correlation\n",
    "pd.set_option('precision', 2)\n",
    "c=a.corr(method='pearson')\n",
    "sb.heatmap(c,annot=True,center =-0.6)\n",
    "#When Petrol tax increases Consumption decreases, so does number of people opting to drive. \n",
    "#Some portion of the Petrol tax is usually used for Road maintenance and building new roads. \n",
    "#But when tax increases, people reduce consumption of petrol which inturn maybe reducing the amount going to making new roads.\n",
    "#Petrol Tax seems to be highly -vely correlated to both %Drivers and No. of Paved Highways.\n",
    "#Hence we can avoid it and see if performance improves."
   ]
  },
  {
   "cell_type": "code",
   "execution_count": 12,
   "metadata": {
    "scrolled": false
   },
   "outputs": [
    {
     "data": {
      "text/plain": [
       "<matplotlib.axes._subplots.AxesSubplot at 0x20d0f46f4a8>"
      ]
     },
     "execution_count": 12,
     "metadata": {},
     "output_type": "execute_result"
    },
    {
     "data": {
      "image/png": "[encoded data removed]",
      "text/plain": [
       "<Figure size 432x288 with 2 Axes>"
      ]
     },
     "metadata": {},
     "output_type": "display_data"
    }
   ],
   "source": [
    "# correlation - remove petrol tax\n",
    "pd.set_option('precision', 2)\n",
    "c=a[[ 'Average_income', 'Paved_Highways',\n",
    "       'Population_Driver_licence(%)', 'Petrol_Consumption']].corr(method='pearson')\n",
    "sb.heatmap(c,annot=True,center =-0.3)\n",
    "#Paved Highays seem to be correlated to the %Drivers too"
   ]
  },
  {
   "cell_type": "code",
   "execution_count": 13,
   "metadata": {},
   "outputs": [
    {
     "data": {
      "text/plain": [
       "Index(['Petrol_tax', 'Average_income', 'Paved_Highways',\n",
       "       'Population_Driver_licence(%)', 'Petrol_Consumption'],\n",
       "      dtype='object')"
      ]
     },
     "execution_count": 13,
     "metadata": {},
     "output_type": "execute_result"
    }
   ],
   "source": [
    "a.columns"
   ]
  },
  {
   "cell_type": "markdown",
   "metadata": {},
   "source": [
    "## Model #1"
   ]
  },
  {
   "cell_type": "code",
   "execution_count": 14,
   "metadata": {},
   "outputs": [],
   "source": [
    "from sklearn.metrics import mean_absolute_error, r2_score, mean_squared_error"
   ]
  },
  {
   "cell_type": "code",
   "execution_count": 15,
   "metadata": {},
   "outputs": [
    {
     "data": {
      "image/png": "[encoded data removed]",
      "text/plain": [
       "<Figure size 432x288 with 1 Axes>"
      ]
     },
     "metadata": {},
     "output_type": "display_data"
    },
    {
     "data": {
      "image/png": "[encoded data removed]",
      "text/plain": [
       "<Figure size 432x288 with 1 Axes>"
      ]
     },
     "metadata": {},
     "output_type": "display_data"
    }
   ],
   "source": [
    "xtr,xts,ytr,yts=train_test_split(a[['Petrol_tax', 'Average_income', 'Paved_Highways','Population_Driver_licence(%)']], a['Petrol_Consumption'], test_size=0.2, random_state=100, shuffle=True)\n",
    "params=[{\n",
    "    'max_depth':[2,3,4,5,6,7],\n",
    "    'min_samples_split':[2,3,4],\n",
    "    'max_features': [1,2] #,3]    \n",
    "}]\n",
    "\n",
    "ks=[]\n",
    "r2=[]\n",
    "mae=[]\n",
    "for x in range(2,10):\n",
    "    gs=GridSearchCV(estimator=DecisionTreeRegressor(random_state=100),param_grid=params,cv=x)\n",
    "    gs.fit(xtr,ytr)\n",
    "    preds = gs.predict(xts)\n",
    "    r2.append(r2_score(yts, preds))\n",
    "    ks.append(x)\n",
    "    mae.append(mean_squared_error(yts, preds))\n",
    "    \n",
    "plt.plot(ks,r2,\"r-\")\n",
    "plt.title(\"Selecting the best value for K in K-fold\")\n",
    "plt.xlabel(\"CV K value\")\n",
    "plt.ylabel(\"R2 value\")\n",
    "plt.show()\n",
    "\n",
    "plt.plot(ks,mae,\"b-\")\n",
    "plt.title(\"Selecting the best value for K in K-fold\")\n",
    "plt.xlabel(\"CV K value\")\n",
    "plt.ylabel(\"MSE value\")\n",
    "plt.show()\n",
    "\n",
    "#R2 is low ~ 0.47"
   ]
  },
  {
   "cell_type": "code",
   "execution_count": 16,
   "metadata": {},
   "outputs": [
    {
     "name": "stdout",
     "output_type": "stream",
     "text": [
      "R2: 0.4733904443827267 mean_squared_error :  8949.708333333332\n"
     ]
    },
    {
     "data": {
      "text/plain": [
       "{'max_depth': 6, 'max_features': 2, 'min_samples_split': 2}"
      ]
     },
     "execution_count": 16,
     "metadata": {},
     "output_type": "execute_result"
    }
   ],
   "source": [
    "gs=GridSearchCV(estimator=DecisionTreeRegressor(random_state=100),param_grid=params,cv=4)\n",
    "gs.fit(xtr,ytr)\n",
    "preds = gs.predict(xts)\n",
    "r2score=r2_score(yts, preds)\n",
    "mae_val=mean_squared_error(yts, preds)\n",
    "print(\"R2:\", r2score, \"mean_squared_error : \", mae_val)\n",
    "gs.best_params_"
   ]
  },
  {
   "cell_type": "markdown",
   "metadata": {},
   "source": [
    "## Model #2 - Removing Petrol Tax"
   ]
  },
  {
   "cell_type": "code",
   "execution_count": 17,
   "metadata": {},
   "outputs": [
    {
     "data": {
      "image/png": "[encoded data removed]",
      "text/plain": [
       "<Figure size 432x288 with 1 Axes>"
      ]
     },
     "metadata": {},
     "output_type": "display_data"
    },
    {
     "data": {
      "image/png": "[encoded data removed]",
      "text/plain": [
       "<Figure size 432x288 with 1 Axes>"
      ]
     },
     "metadata": {},
     "output_type": "display_data"
    }
   ],
   "source": [
    "xtr,xts,ytr,yts=train_test_split(a[[ 'Average_income', 'Paved_Highways','Population_Driver_licence(%)']], a['Petrol_Consumption'], test_size=0.2, random_state=100, shuffle=True)\n",
    "params=[{\n",
    "    'max_depth':[2,3,4,5,6,7],\n",
    "    'min_samples_split':[2,3,4],\n",
    "    'max_features': [1,2] #,3]    \n",
    "}]\n",
    "\n",
    "ks=[]\n",
    "r2=[]\n",
    "mae=[]\n",
    "for x in range(2,10):\n",
    "    gs=GridSearchCV(estimator=DecisionTreeRegressor(random_state=100),param_grid=params,cv=x)\n",
    "    gs.fit(xtr,ytr)\n",
    "    preds = gs.predict(xts)\n",
    "    r2.append(r2_score(yts, preds))\n",
    "    ks.append(x)\n",
    "    mae.append(mean_squared_error(yts, preds))\n",
    "    \n",
    "plt.plot(ks,r2,\"r-\")\n",
    "plt.title(\"Selecting the best value for K in K-fold\")\n",
    "plt.xlabel(\"CV K value\")\n",
    "plt.ylabel(\"R2 value\")\n",
    "plt.show()\n",
    "\n",
    "plt.plot(ks,mae,\"b-\")\n",
    "plt.title(\"Selecting the best value for K in K-fold\")\n",
    "plt.xlabel(\"CV K value\")\n",
    "plt.ylabel(\"MSE value\")\n",
    "plt.show()\n",
    "#R2 is ~ at 0.77 now !"
   ]
  },
  {
   "cell_type": "code",
   "execution_count": 18,
   "metadata": {},
   "outputs": [
    {
     "name": "stdout",
     "output_type": "stream",
     "text": [
      "R2: 0.7794177701564172\n"
     ]
    },
    {
     "data": {
      "text/plain": [
       "{'max_depth': 5, 'max_features': 2, 'min_samples_split': 4}"
      ]
     },
     "execution_count": 18,
     "metadata": {},
     "output_type": "execute_result"
    }
   ],
   "source": [
    "gs=GridSearchCV(estimator=DecisionTreeRegressor(random_state=100),param_grid=params,cv=5)\n",
    "gs.fit(xtr,ytr)\n",
    "preds = gs.predict(xts)\n",
    "r2score=r2_score(yts, preds)\n",
    "mae_val=mean_squared_error(yts, preds)\n",
    "print(\"R2:\", r2score)\n",
    "gs.best_params_"
   ]
  },
  {
   "cell_type": "markdown",
   "metadata": {},
   "source": [
    "## Model #3 - Removing Paved Highways and retain Petrol_Tax"
   ]
  },
  {
   "cell_type": "code",
   "execution_count": 19,
   "metadata": {},
   "outputs": [
    {
     "data": {
      "image/png": "[encoded data removed]",
      "text/plain": [
       "<Figure size 432x288 with 1 Axes>"
      ]
     },
     "metadata": {},
     "output_type": "display_data"
    },
    {
     "data": {
      "image/png": "[encoded data removed]",
      "text/plain": [
       "<Figure size 432x288 with 1 Axes>"
      ]
     },
     "metadata": {},
     "output_type": "display_data"
    }
   ],
   "source": [
    "xtr,xts,ytr,yts=train_test_split(a[['Petrol_tax', 'Average_income', 'Population_Driver_licence(%)']], a['Petrol_Consumption'], test_size=0.2, random_state=100, shuffle=True)\n",
    "params=[{\n",
    "    'max_depth':[2,3,4,5] , #,6,7], #depth reduced\n",
    "    'min_samples_split':[2,3,4],\n",
    "    'max_features': [1,2,3]    \n",
    "}]\n",
    "\n",
    "ks=[]\n",
    "r2=[]\n",
    "mae=[]\n",
    "for x in range(2,10):\n",
    "    gs=GridSearchCV(estimator=DecisionTreeRegressor(random_state=100),param_grid=params,cv=x)\n",
    "    gs.fit(xtr,ytr)\n",
    "    preds = gs.predict(xts)\n",
    "    r2.append(r2_score(yts, preds))\n",
    "    ks.append(x)\n",
    "    mae.append(mean_squared_error(yts, preds))\n",
    "    \n",
    "plt.plot(ks,r2,\"r-\")\n",
    "plt.title(\"Selecting the best value for K in K-fold\")\n",
    "plt.xlabel(\"CV K value\")\n",
    "plt.ylabel(\"R2 value\")\n",
    "plt.show()\n",
    "\n",
    "plt.plot(ks,mae,\"b-\")\n",
    "plt.title(\"Selecting the best value for K in K-fold\")\n",
    "plt.xlabel(\"CV K value\")\n",
    "plt.ylabel(\"MSE value\")\n",
    "plt.show()\n",
    "#R2 is only at 0.79"
   ]
  },
  {
   "cell_type": "code",
   "execution_count": 20,
   "metadata": {},
   "outputs": [
    {
     "name": "stdout",
     "output_type": "stream",
     "text": [
      "R2: 0.7965977037375263\n"
     ]
    },
    {
     "data": {
      "text/plain": [
       "{'max_depth': 4, 'max_features': 1, 'min_samples_split': 4}"
      ]
     },
     "execution_count": 20,
     "metadata": {},
     "output_type": "execute_result"
    }
   ],
   "source": [
    "gs=GridSearchCV(estimator=DecisionTreeRegressor(random_state=100),param_grid=params,cv=2)\n",
    "gs.fit(xtr,ytr)\n",
    "preds = gs.predict(xts)\n",
    "r2score=r2_score(yts, preds)\n",
    "mae_val=mean_squared_error(yts, preds)\n",
    "print(\"R2:\", r2score)\n",
    "gs.best_params_\n",
    "#Final Model"
   ]
  },
  {
   "cell_type": "markdown",
   "metadata": {},
   "source": [
    "## Model #4 - Removing Paved Highways and Petrol_Tax"
   ]
  },
  {
   "cell_type": "code",
   "execution_count": 21,
   "metadata": {},
   "outputs": [
    {
     "data": {
      "image/png": "[encoded data removed]",
      "text/plain": [
       "<Figure size 432x288 with 1 Axes>"
      ]
     },
     "metadata": {},
     "output_type": "display_data"
    },
    {
     "data": {
      "image/png": "[encoded data removed]",
      "text/plain": [
       "<Figure size 432x288 with 1 Axes>"
      ]
     },
     "metadata": {},
     "output_type": "display_data"
    }
   ],
   "source": [
    "xtr,xts,ytr,yts=train_test_split(a[[ 'Average_income', 'Population_Driver_licence(%)']], a['Petrol_Consumption'], test_size=0.2, random_state=100, shuffle=True)\n",
    "params=[{\n",
    "    'max_depth':[2,3,4,5] , #,6,7], #depth reduced\n",
    "    'min_samples_split':[2,3,4],\n",
    "    'max_features': [1,2] #,3]    \n",
    "}]\n",
    "\n",
    "ks=[]\n",
    "r2=[]\n",
    "mae=[]\n",
    "for x in range(2,10):\n",
    "    gs=GridSearchCV(estimator=DecisionTreeRegressor(random_state=100),param_grid=params,cv=x)\n",
    "    gs.fit(xtr,ytr)\n",
    "    preds = gs.predict(xts)\n",
    "    r2.append(r2_score(yts, preds))\n",
    "    ks.append(x)\n",
    "    mae.append(mean_squared_error(yts, preds))\n",
    "    \n",
    "plt.plot(ks,r2,\"r-\")\n",
    "plt.title(\"Selecting the best value for K in K-fold\")\n",
    "plt.xlabel(\"CV K value\")\n",
    "plt.ylabel(\"R2 value\")\n",
    "plt.show()\n",
    "\n",
    "plt.plot(ks,mae,\"b-\")\n",
    "plt.title(\"Selecting the best value for K in K-fold\")\n",
    "plt.xlabel(\"CV K value\")\n",
    "plt.ylabel(\"MSE value\")\n",
    "plt.show()\n",
    "#R2 is ~ at 0.81 now !"
   ]
  },
  {
   "cell_type": "code",
   "execution_count": 22,
   "metadata": {},
   "outputs": [
    {
     "name": "stdout",
     "output_type": "stream",
     "text": [
      "R2: 0.8155240072735129\n"
     ]
    },
    {
     "data": {
      "text/plain": [
       "{'max_depth': 5, 'max_features': 2, 'min_samples_split': 3}"
      ]
     },
     "execution_count": 22,
     "metadata": {},
     "output_type": "execute_result"
    }
   ],
   "source": [
    "gs=GridSearchCV(estimator=DecisionTreeRegressor(random_state=100),param_grid=params,cv=6)\n",
    "gs.fit(xtr,ytr)\n",
    "preds = gs.predict(xts)\n",
    "r2score=r2_score(yts, preds)\n",
    "mae_val=mean_squared_error(yts, preds)\n",
    "print(\"R2:\", r2score)\n",
    "gs.best_params_\n",
    "#Final Model !"
   ]
  },
  {
   "cell_type": "code",
   "execution_count": 23,
   "metadata": {},
   "outputs": [],
   "source": [
    "from sklearn.tree import export_graphviz"
   ]
  },
  {
   "cell_type": "code",
   "execution_count": 24,
   "metadata": {},
   "outputs": [],
   "source": [
    "eg=export_graphviz(gs.best_estimator_, filled=True, rounded=True, feature_names=xtr.columns, out_file=None)"
   ]
  },
  {
   "cell_type": "code",
   "execution_count": 25,
   "metadata": {
    "scrolled": false
   },
   "outputs": [
    {
     "data": {
      "image/svg+xml": [
       "<?xml version=\"1.0\" encoding=\"UTF-8\" standalone=\"no\"?>\r\n",
       "<!DOCTYPE svg PUBLIC \"-//W3C//DTD SVG 1.1//EN\"\r\n",
       " \"http://www.w3.org/Graphics/SVG/1.1/DTD/svg11.dtd\">\r\n",
       "<!-- Generated by graphviz version 2.38.0 (20140413.2041)\r\n",
       " -->\r\n",
       "<!-- Title: Tree Pages: 1 -->\r\n",
       "<svg width=\"1350pt\" height=\"581pt\"\r\n",
       " viewBox=\"0.00 0.00 1350.00 581.00\" xmlns=\"http://www.w3.org/2000/svg\" xmlns:xlink=\"http://www.w3.org/1999/xlink\">\r\n",
       "<g id=\"graph0\" class=\"graph\" transform=\"scale(1 1) rotate(0) translate(4 577)\">\r\n",
       "<title>Tree</title>\r\n",
       "<polygon fill=\"white\" stroke=\"none\" points=\"-4,4 -4,-577 1346,-577 1346,4 -4,4\"/>\r\n",
       "<!-- 0 -->\r\n",
       "<g id=\"node1\" class=\"node\"><title>0</title>\r\n",
       "<path fill=\"#e58139\" fill-opacity=\"0.360784\" stroke=\"black\" d=\"M1148.5,-573C1148.5,-573 907.5,-573 907.5,-573 901.5,-573 895.5,-567 895.5,-561 895.5,-561 895.5,-517 895.5,-517 895.5,-511 901.5,-505 907.5,-505 907.5,-505 1148.5,-505 1148.5,-505 1154.5,-505 1160.5,-511 1160.5,-517 1160.5,-517 1160.5,-561 1160.5,-561 1160.5,-567 1154.5,-573 1148.5,-573\"/>\r\n",
       "<text text-anchor=\"middle\" x=\"1028\" y=\"-557.8\" font-family=\"Helvetica,sans-Serif\" font-size=\"14.00\">Population_Driver_licence(%) &lt;= 0.667</text>\r\n",
       "<text text-anchor=\"middle\" x=\"1028\" y=\"-542.8\" font-family=\"Helvetica,sans-Serif\" font-size=\"14.00\">mse = 11010.657</text>\r\n",
       "<text text-anchor=\"middle\" x=\"1028\" y=\"-527.8\" font-family=\"Helvetica,sans-Serif\" font-size=\"14.00\">samples = 38</text>\r\n",
       "<text text-anchor=\"middle\" x=\"1028\" y=\"-512.8\" font-family=\"Helvetica,sans-Serif\" font-size=\"14.00\">value = 577.026</text>\r\n",
       "</g>\r\n",
       "<!-- 1 -->\r\n",
       "<g id=\"node2\" class=\"node\"><title>1</title>\r\n",
       "<path fill=\"#e58139\" fill-opacity=\"0.317647\" stroke=\"black\" d=\"M1007,-469C1007,-469 837,-469 837,-469 831,-469 825,-463 825,-457 825,-457 825,-413 825,-413 825,-407 831,-401 837,-401 837,-401 1007,-401 1007,-401 1013,-401 1019,-407 1019,-413 1019,-413 1019,-457 1019,-457 1019,-463 1013,-469 1007,-469\"/>\r\n",
       "<text text-anchor=\"middle\" x=\"922\" y=\"-453.8\" font-family=\"Helvetica,sans-Serif\" font-size=\"14.00\">Average_income &lt;= 4395.0</text>\r\n",
       "<text text-anchor=\"middle\" x=\"922\" y=\"-438.8\" font-family=\"Helvetica,sans-Serif\" font-size=\"14.00\">mse = 5918.846</text>\r\n",
       "<text text-anchor=\"middle\" x=\"922\" y=\"-423.8\" font-family=\"Helvetica,sans-Serif\" font-size=\"14.00\">samples = 35</text>\r\n",
       "<text text-anchor=\"middle\" x=\"922\" y=\"-408.8\" font-family=\"Helvetica,sans-Serif\" font-size=\"14.00\">value = 558.2</text>\r\n",
       "</g>\r\n",
       "<!-- 0&#45;&gt;1 -->\r\n",
       "<g id=\"edge1\" class=\"edge\"><title>0&#45;&gt;1</title>\r\n",
       "<path fill=\"none\" stroke=\"black\" d=\"M993.585,-504.884C984.143,-495.798 973.8,-485.845 963.985,-476.4\"/>\r\n",
       "<polygon fill=\"black\" stroke=\"black\" points=\"966.238,-473.711 956.605,-469.299 961.384,-478.755 966.238,-473.711\"/>\r\n",
       "<text text-anchor=\"middle\" x=\"957.086\" y=\"-490.595\" font-family=\"Helvetica,sans-Serif\" font-size=\"14.00\">True</text>\r\n",
       "</g>\r\n",
       "<!-- 24 -->\r\n",
       "<g id=\"node25\" class=\"node\"><title>24</title>\r\n",
       "<path fill=\"#e58139\" fill-opacity=\"0.831373\" stroke=\"black\" d=\"M1219,-469C1219,-469 1049,-469 1049,-469 1043,-469 1037,-463 1037,-457 1037,-457 1037,-413 1037,-413 1037,-407 1043,-401 1049,-401 1049,-401 1219,-401 1219,-401 1225,-401 1231,-407 1231,-413 1231,-413 1231,-457 1231,-457 1231,-463 1225,-469 1219,-469\"/>\r\n",
       "<text text-anchor=\"middle\" x=\"1134\" y=\"-453.8\" font-family=\"Helvetica,sans-Serif\" font-size=\"14.00\">Average_income &lt;= 4343.0</text>\r\n",
       "<text text-anchor=\"middle\" x=\"1134\" y=\"-438.8\" font-family=\"Helvetica,sans-Serif\" font-size=\"14.00\">mse = 18038.222</text>\r\n",
       "<text text-anchor=\"middle\" x=\"1134\" y=\"-423.8\" font-family=\"Helvetica,sans-Serif\" font-size=\"14.00\">samples = 3</text>\r\n",
       "<text text-anchor=\"middle\" x=\"1134\" y=\"-408.8\" font-family=\"Helvetica,sans-Serif\" font-size=\"14.00\">value = 796.667</text>\r\n",
       "</g>\r\n",
       "<!-- 0&#45;&gt;24 -->\r\n",
       "<g id=\"edge24\" class=\"edge\"><title>0&#45;&gt;24</title>\r\n",
       "<path fill=\"none\" stroke=\"black\" d=\"M1062.42,-504.884C1071.86,-495.798 1082.2,-485.845 1092.02,-476.4\"/>\r\n",
       "<polygon fill=\"black\" stroke=\"black\" points=\"1094.62,-478.755 1099.39,-469.299 1089.76,-473.711 1094.62,-478.755\"/>\r\n",
       "<text text-anchor=\"middle\" x=\"1098.91\" y=\"-490.595\" font-family=\"Helvetica,sans-Serif\" font-size=\"14.00\">False</text>\r\n",
       "</g>\r\n",
       "<!-- 2 -->\r\n",
       "<g id=\"node3\" class=\"node\"><title>2</title>\r\n",
       "<path fill=\"#e58139\" fill-opacity=\"0.396078\" stroke=\"black\" d=\"M673.5,-365C673.5,-365 432.5,-365 432.5,-365 426.5,-365 420.5,-359 420.5,-353 420.5,-353 420.5,-309 420.5,-309 420.5,-303 426.5,-297 432.5,-297 432.5,-297 673.5,-297 673.5,-297 679.5,-297 685.5,-303 685.5,-309 685.5,-309 685.5,-353 685.5,-353 685.5,-359 679.5,-365 673.5,-365\"/>\r\n",
       "<text text-anchor=\"middle\" x=\"553\" y=\"-349.8\" font-family=\"Helvetica,sans-Serif\" font-size=\"14.00\">Population_Driver_licence(%) &lt;= 0.535</text>\r\n",
       "<text text-anchor=\"middle\" x=\"553\" y=\"-334.8\" font-family=\"Helvetica,sans-Serif\" font-size=\"14.00\">mse = 3294.461</text>\r\n",
       "<text text-anchor=\"middle\" x=\"553\" y=\"-319.8\" font-family=\"Helvetica,sans-Serif\" font-size=\"14.00\">samples = 23</text>\r\n",
       "<text text-anchor=\"middle\" x=\"553\" y=\"-304.8\" font-family=\"Helvetica,sans-Serif\" font-size=\"14.00\">value = 594.13</text>\r\n",
       "</g>\r\n",
       "<!-- 1&#45;&gt;2 -->\r\n",
       "<g id=\"edge2\" class=\"edge\"><title>1&#45;&gt;2</title>\r\n",
       "<path fill=\"none\" stroke=\"black\" d=\"M824.567,-407.067C781.01,-395.027 729.053,-380.665 682.304,-367.743\"/>\r\n",
       "<polygon fill=\"black\" stroke=\"black\" points=\"682.983,-364.299 672.412,-365.008 681.118,-371.046 682.983,-364.299\"/>\r\n",
       "</g>\r\n",
       "<!-- 15 -->\r\n",
       "<g id=\"node16\" class=\"node\"><title>15</title>\r\n",
       "<path fill=\"#e58139\" fill-opacity=\"0.172549\" stroke=\"black\" d=\"M1045.5,-365C1045.5,-365 804.5,-365 804.5,-365 798.5,-365 792.5,-359 792.5,-353 792.5,-353 792.5,-309 792.5,-309 792.5,-303 798.5,-297 804.5,-297 804.5,-297 1045.5,-297 1045.5,-297 1051.5,-297 1057.5,-303 1057.5,-309 1057.5,-309 1057.5,-353 1057.5,-353 1057.5,-359 1051.5,-365 1045.5,-365\"/>\r\n",
       "<text text-anchor=\"middle\" x=\"925\" y=\"-349.8\" font-family=\"Helvetica,sans-Serif\" font-size=\"14.00\">Population_Driver_licence(%) &lt;= 0.632</text>\r\n",
       "<text text-anchor=\"middle\" x=\"925\" y=\"-334.8\" font-family=\"Helvetica,sans-Serif\" font-size=\"14.00\">mse = 3731.889</text>\r\n",
       "<text text-anchor=\"middle\" x=\"925\" y=\"-319.8\" font-family=\"Helvetica,sans-Serif\" font-size=\"14.00\">samples = 12</text>\r\n",
       "<text text-anchor=\"middle\" x=\"925\" y=\"-304.8\" font-family=\"Helvetica,sans-Serif\" font-size=\"14.00\">value = 489.333</text>\r\n",
       "</g>\r\n",
       "<!-- 1&#45;&gt;15 -->\r\n",
       "<g id=\"edge15\" class=\"edge\"><title>1&#45;&gt;15</title>\r\n",
       "<path fill=\"none\" stroke=\"black\" d=\"M922.974,-400.884C923.212,-392.778 923.471,-383.982 923.721,-375.472\"/>\r\n",
       "<polygon fill=\"black\" stroke=\"black\" points=\"927.225,-375.398 924.021,-365.299 920.228,-375.192 927.225,-375.398\"/>\r\n",
       "</g>\r\n",
       "<!-- 3 -->\r\n",
       "<g id=\"node4\" class=\"node\"><title>3</title>\r\n",
       "<path fill=\"#e58139\" fill-opacity=\"0.301961\" stroke=\"black\" d=\"M333.5,-261C333.5,-261 100.5,-261 100.5,-261 94.5,-261 88.5,-255 88.5,-249 88.5,-249 88.5,-205 88.5,-205 88.5,-199 94.5,-193 100.5,-193 100.5,-193 333.5,-193 333.5,-193 339.5,-193 345.5,-199 345.5,-205 345.5,-205 345.5,-249 345.5,-249 345.5,-255 339.5,-261 333.5,-261\"/>\r\n",
       "<text text-anchor=\"middle\" x=\"217\" y=\"-245.8\" font-family=\"Helvetica,sans-Serif\" font-size=\"14.00\">Population_Driver_licence(%) &lt;= 0.49</text>\r\n",
       "<text text-anchor=\"middle\" x=\"217\" y=\"-230.8\" font-family=\"Helvetica,sans-Serif\" font-size=\"14.00\">mse = 1048.122</text>\r\n",
       "<text text-anchor=\"middle\" x=\"217\" y=\"-215.8\" font-family=\"Helvetica,sans-Serif\" font-size=\"14.00\">samples = 7</text>\r\n",
       "<text text-anchor=\"middle\" x=\"217\" y=\"-200.8\" font-family=\"Helvetica,sans-Serif\" font-size=\"14.00\">value = 550.143</text>\r\n",
       "</g>\r\n",
       "<!-- 2&#45;&gt;3 -->\r\n",
       "<g id=\"edge3\" class=\"edge\"><title>2&#45;&gt;3</title>\r\n",
       "<path fill=\"none\" stroke=\"black\" d=\"M443.91,-296.884C409.318,-286.382 370.909,-274.722 335.677,-264.027\"/>\r\n",
       "<polygon fill=\"black\" stroke=\"black\" points=\"336.415,-260.593 325.829,-261.038 334.382,-267.291 336.415,-260.593\"/>\r\n",
       "</g>\r\n",
       "<!-- 8 -->\r\n",
       "<g id=\"node9\" class=\"node\"><title>8</title>\r\n",
       "<path fill=\"#e58139\" fill-opacity=\"0.439216\" stroke=\"black\" d=\"M638,-261C638,-261 468,-261 468,-261 462,-261 456,-255 456,-249 456,-249 456,-205 456,-205 456,-199 462,-193 468,-193 468,-193 638,-193 638,-193 644,-193 650,-199 650,-205 650,-205 650,-249 650,-249 650,-255 644,-261 638,-261\"/>\r\n",
       "<text text-anchor=\"middle\" x=\"553\" y=\"-245.8\" font-family=\"Helvetica,sans-Serif\" font-size=\"14.00\">Average_income &lt;= 4068.5</text>\r\n",
       "<text text-anchor=\"middle\" x=\"553\" y=\"-230.8\" font-family=\"Helvetica,sans-Serif\" font-size=\"14.00\">mse = 3060.359</text>\r\n",
       "<text text-anchor=\"middle\" x=\"553\" y=\"-215.8\" font-family=\"Helvetica,sans-Serif\" font-size=\"14.00\">samples = 16</text>\r\n",
       "<text text-anchor=\"middle\" x=\"553\" y=\"-200.8\" font-family=\"Helvetica,sans-Serif\" font-size=\"14.00\">value = 613.375</text>\r\n",
       "</g>\r\n",
       "<!-- 2&#45;&gt;8 -->\r\n",
       "<g id=\"edge8\" class=\"edge\"><title>2&#45;&gt;8</title>\r\n",
       "<path fill=\"none\" stroke=\"black\" d=\"M553,-296.884C553,-288.778 553,-279.982 553,-271.472\"/>\r\n",
       "<polygon fill=\"black\" stroke=\"black\" points=\"556.5,-271.299 553,-261.299 549.5,-271.299 556.5,-271.299\"/>\r\n",
       "</g>\r\n",
       "<!-- 4 -->\r\n",
       "<g id=\"node5\" class=\"node\"><title>4</title>\r\n",
       "<path fill=\"#e58139\" fill-opacity=\"0.164706\" stroke=\"black\" d=\"M90,-149.5C90,-149.5 12,-149.5 12,-149.5 6,-149.5 0,-143.5 0,-137.5 0,-137.5 0,-108.5 0,-108.5 0,-102.5 6,-96.5 12,-96.5 12,-96.5 90,-96.5 90,-96.5 96,-96.5 102,-102.5 102,-108.5 102,-108.5 102,-137.5 102,-137.5 102,-143.5 96,-149.5 90,-149.5\"/>\r\n",
       "<text text-anchor=\"middle\" x=\"51\" y=\"-134.3\" font-family=\"Helvetica,sans-Serif\" font-size=\"14.00\">mse = 0.0</text>\r\n",
       "<text text-anchor=\"middle\" x=\"51\" y=\"-119.3\" font-family=\"Helvetica,sans-Serif\" font-size=\"14.00\">samples = 1</text>\r\n",
       "<text text-anchor=\"middle\" x=\"51\" y=\"-104.3\" font-family=\"Helvetica,sans-Serif\" font-size=\"14.00\">value = 487.0</text>\r\n",
       "</g>\r\n",
       "<!-- 3&#45;&gt;4 -->\r\n",
       "<g id=\"edge4\" class=\"edge\"><title>3&#45;&gt;4</title>\r\n",
       "<path fill=\"none\" stroke=\"black\" d=\"M163.105,-192.884C143.237,-180.676 120.822,-166.903 101.286,-154.899\"/>\r\n",
       "<polygon fill=\"black\" stroke=\"black\" points=\"102.885,-151.773 92.5324,-149.52 99.2202,-157.737 102.885,-151.773\"/>\r\n",
       "</g>\r\n",
       "<!-- 5 -->\r\n",
       "<g id=\"node6\" class=\"node\"><title>5</title>\r\n",
       "<path fill=\"#e58139\" fill-opacity=\"0.325490\" stroke=\"black\" d=\"M302,-157C302,-157 132,-157 132,-157 126,-157 120,-151 120,-145 120,-145 120,-101 120,-101 120,-95 126,-89 132,-89 132,-89 302,-89 302,-89 308,-89 314,-95 314,-101 314,-101 314,-145 314,-145 314,-151 308,-157 302,-157\"/>\r\n",
       "<text text-anchor=\"middle\" x=\"217\" y=\"-141.8\" font-family=\"Helvetica,sans-Serif\" font-size=\"14.00\">Average_income &lt;= 3620.5</text>\r\n",
       "<text text-anchor=\"middle\" x=\"217\" y=\"-126.8\" font-family=\"Helvetica,sans-Serif\" font-size=\"14.00\">mse = 447.556</text>\r\n",
       "<text text-anchor=\"middle\" x=\"217\" y=\"-111.8\" font-family=\"Helvetica,sans-Serif\" font-size=\"14.00\">samples = 6</text>\r\n",
       "<text text-anchor=\"middle\" x=\"217\" y=\"-96.8\" font-family=\"Helvetica,sans-Serif\" font-size=\"14.00\">value = 560.667</text>\r\n",
       "</g>\r\n",
       "<!-- 3&#45;&gt;5 -->\r\n",
       "<g id=\"edge5\" class=\"edge\"><title>3&#45;&gt;5</title>\r\n",
       "<path fill=\"none\" stroke=\"black\" d=\"M217,-192.884C217,-184.778 217,-175.982 217,-167.472\"/>\r\n",
       "<polygon fill=\"black\" stroke=\"black\" points=\"220.5,-167.299 217,-157.299 213.5,-167.299 220.5,-167.299\"/>\r\n",
       "</g>\r\n",
       "<!-- 6 -->\r\n",
       "<g id=\"node7\" class=\"node\"><title>6</title>\r\n",
       "<path fill=\"#e58139\" fill-opacity=\"0.274510\" stroke=\"black\" d=\"M131,-53C131,-53 53,-53 53,-53 47,-53 41,-47 41,-41 41,-41 41,-12 41,-12 41,-6 47,-0 53,-0 53,-0 131,-0 131,-0 137,-0 143,-6 143,-12 143,-12 143,-41 143,-41 143,-47 137,-53 131,-53\"/>\r\n",
       "<text text-anchor=\"middle\" x=\"92\" y=\"-37.8\" font-family=\"Helvetica,sans-Serif\" font-size=\"14.00\">mse = 12.25</text>\r\n",
       "<text text-anchor=\"middle\" x=\"92\" y=\"-22.8\" font-family=\"Helvetica,sans-Serif\" font-size=\"14.00\">samples = 2</text>\r\n",
       "<text text-anchor=\"middle\" x=\"92\" y=\"-7.8\" font-family=\"Helvetica,sans-Serif\" font-size=\"14.00\">value = 537.5</text>\r\n",
       "</g>\r\n",
       "<!-- 5&#45;&gt;6 -->\r\n",
       "<g id=\"edge6\" class=\"edge\"><title>5&#45;&gt;6</title>\r\n",
       "<path fill=\"none\" stroke=\"black\" d=\"M173.281,-88.9485C160.576,-79.3431 146.728,-68.8747 134.123,-59.345\"/>\r\n",
       "<polygon fill=\"black\" stroke=\"black\" points=\"136.131,-56.4754 126.043,-53.2367 131.91,-62.0593 136.131,-56.4754\"/>\r\n",
       "</g>\r\n",
       "<!-- 7 -->\r\n",
       "<g id=\"node8\" class=\"node\"><title>7</title>\r\n",
       "<path fill=\"#e58139\" fill-opacity=\"0.349020\" stroke=\"black\" d=\"M262.5,-53C262.5,-53 173.5,-53 173.5,-53 167.5,-53 161.5,-47 161.5,-41 161.5,-41 161.5,-12 161.5,-12 161.5,-6 167.5,-0 173.5,-0 173.5,-0 262.5,-0 262.5,-0 268.5,-0 274.5,-6 274.5,-12 274.5,-12 274.5,-41 274.5,-41 274.5,-47 268.5,-53 262.5,-53\"/>\r\n",
       "<text text-anchor=\"middle\" x=\"218\" y=\"-37.8\" font-family=\"Helvetica,sans-Serif\" font-size=\"14.00\">mse = 262.688</text>\r\n",
       "<text text-anchor=\"middle\" x=\"218\" y=\"-22.8\" font-family=\"Helvetica,sans-Serif\" font-size=\"14.00\">samples = 4</text>\r\n",
       "<text text-anchor=\"middle\" x=\"218\" y=\"-7.8\" font-family=\"Helvetica,sans-Serif\" font-size=\"14.00\">value = 572.25</text>\r\n",
       "</g>\r\n",
       "<!-- 5&#45;&gt;7 -->\r\n",
       "<g id=\"edge7\" class=\"edge\"><title>5&#45;&gt;7</title>\r\n",
       "<path fill=\"none\" stroke=\"black\" d=\"M217.35,-88.9485C217.437,-80.7153 217.531,-71.848 217.619,-63.4814\"/>\r\n",
       "<polygon fill=\"black\" stroke=\"black\" points=\"221.122,-63.2732 217.728,-53.2367 214.122,-63.1991 221.122,-63.2732\"/>\r\n",
       "</g>\r\n",
       "<!-- 9 -->\r\n",
       "<g id=\"node10\" class=\"node\"><title>9</title>\r\n",
       "<path fill=\"#e58139\" fill-opacity=\"0.490196\" stroke=\"black\" d=\"M585.5,-157C585.5,-157 344.5,-157 344.5,-157 338.5,-157 332.5,-151 332.5,-145 332.5,-145 332.5,-101 332.5,-101 332.5,-95 338.5,-89 344.5,-89 344.5,-89 585.5,-89 585.5,-89 591.5,-89 597.5,-95 597.5,-101 597.5,-101 597.5,-145 597.5,-145 597.5,-151 591.5,-157 585.5,-157\"/>\r\n",
       "<text text-anchor=\"middle\" x=\"465\" y=\"-141.8\" font-family=\"Helvetica,sans-Serif\" font-size=\"14.00\">Population_Driver_licence(%) &lt;= 0.542</text>\r\n",
       "<text text-anchor=\"middle\" x=\"465\" y=\"-126.8\" font-family=\"Helvetica,sans-Serif\" font-size=\"14.00\">mse = 2392.222</text>\r\n",
       "<text text-anchor=\"middle\" x=\"465\" y=\"-111.8\" font-family=\"Helvetica,sans-Serif\" font-size=\"14.00\">samples = 9</text>\r\n",
       "<text text-anchor=\"middle\" x=\"465\" y=\"-96.8\" font-family=\"Helvetica,sans-Serif\" font-size=\"14.00\">value = 637.333</text>\r\n",
       "</g>\r\n",
       "<!-- 8&#45;&gt;9 -->\r\n",
       "<g id=\"edge9\" class=\"edge\"><title>8&#45;&gt;9</title>\r\n",
       "<path fill=\"none\" stroke=\"black\" d=\"M524.429,-192.884C516.744,-183.976 508.34,-174.235 500.335,-164.957\"/>\r\n",
       "<polygon fill=\"black\" stroke=\"black\" points=\"502.911,-162.585 493.729,-157.299 497.611,-167.157 502.911,-162.585\"/>\r\n",
       "</g>\r\n",
       "<!-- 12 -->\r\n",
       "<g id=\"node13\" class=\"node\"><title>12</title>\r\n",
       "<path fill=\"#e58139\" fill-opacity=\"0.372549\" stroke=\"black\" d=\"M798,-157C798,-157 628,-157 628,-157 622,-157 616,-151 616,-145 616,-145 616,-101 616,-101 616,-95 622,-89 628,-89 628,-89 798,-89 798,-89 804,-89 810,-95 810,-101 810,-101 810,-145 810,-145 810,-151 804,-157 798,-157\"/>\r\n",
       "<text text-anchor=\"middle\" x=\"713\" y=\"-141.8\" font-family=\"Helvetica,sans-Serif\" font-size=\"14.00\">Average_income &lt;= 4251.5</text>\r\n",
       "<text text-anchor=\"middle\" x=\"713\" y=\"-126.8\" font-family=\"Helvetica,sans-Serif\" font-size=\"14.00\">mse = 2232.531</text>\r\n",
       "<text text-anchor=\"middle\" x=\"713\" y=\"-111.8\" font-family=\"Helvetica,sans-Serif\" font-size=\"14.00\">samples = 7</text>\r\n",
       "<text text-anchor=\"middle\" x=\"713\" y=\"-96.8\" font-family=\"Helvetica,sans-Serif\" font-size=\"14.00\">value = 582.571</text>\r\n",
       "</g>\r\n",
       "<!-- 8&#45;&gt;12 -->\r\n",
       "<g id=\"edge12\" class=\"edge\"><title>8&#45;&gt;12</title>\r\n",
       "<path fill=\"none\" stroke=\"black\" d=\"M604.947,-192.884C620.115,-183.214 636.822,-172.563 652.471,-162.587\"/>\r\n",
       "<polygon fill=\"black\" stroke=\"black\" points=\"654.489,-165.452 661.04,-157.125 650.726,-159.549 654.489,-165.452\"/>\r\n",
       "</g>\r\n",
       "<!-- 10 -->\r\n",
       "<g id=\"node11\" class=\"node\"><title>10</title>\r\n",
       "<path fill=\"#e58139\" fill-opacity=\"0.654902\" stroke=\"black\" d=\"M385,-53C385,-53 307,-53 307,-53 301,-53 295,-47 295,-41 295,-41 295,-12 295,-12 295,-6 301,-0 307,-0 307,-0 385,-0 385,-0 391,-0 397,-6 397,-12 397,-12 397,-41 397,-41 397,-47 391,-53 385,-53\"/>\r\n",
       "<text text-anchor=\"middle\" x=\"346\" y=\"-37.8\" font-family=\"Helvetica,sans-Serif\" font-size=\"14.00\">mse = 0.0</text>\r\n",
       "<text text-anchor=\"middle\" x=\"346\" y=\"-22.8\" font-family=\"Helvetica,sans-Serif\" font-size=\"14.00\">samples = 1</text>\r\n",
       "<text text-anchor=\"middle\" x=\"346\" y=\"-7.8\" font-family=\"Helvetica,sans-Serif\" font-size=\"14.00\">value = 714.0</text>\r\n",
       "</g>\r\n",
       "<!-- 9&#45;&gt;10 -->\r\n",
       "<g id=\"edge10\" class=\"edge\"><title>9&#45;&gt;10</title>\r\n",
       "<path fill=\"none\" stroke=\"black\" d=\"M423.38,-88.9485C411.399,-79.4346 398.352,-69.074 386.444,-59.6175\"/>\r\n",
       "<polygon fill=\"black\" stroke=\"black\" points=\"388.417,-56.7147 378.409,-53.2367 384.064,-62.1965 388.417,-56.7147\"/>\r\n",
       "</g>\r\n",
       "<!-- 11 -->\r\n",
       "<g id=\"node12\" class=\"node\"><title>11</title>\r\n",
       "<path fill=\"#e58139\" fill-opacity=\"0.466667\" stroke=\"black\" d=\"M525,-53C525,-53 427,-53 427,-53 421,-53 415,-47 415,-41 415,-41 415,-12 415,-12 415,-6 421,-0 427,-0 427,-0 525,-0 525,-0 531,-0 537,-6 537,-12 537,-12 537,-41 537,-41 537,-47 531,-53 525,-53\"/>\r\n",
       "<text text-anchor=\"middle\" x=\"476\" y=\"-37.8\" font-family=\"Helvetica,sans-Serif\" font-size=\"14.00\">mse = 1864.688</text>\r\n",
       "<text text-anchor=\"middle\" x=\"476\" y=\"-22.8\" font-family=\"Helvetica,sans-Serif\" font-size=\"14.00\">samples = 8</text>\r\n",
       "<text text-anchor=\"middle\" x=\"476\" y=\"-7.8\" font-family=\"Helvetica,sans-Serif\" font-size=\"14.00\">value = 627.75</text>\r\n",
       "</g>\r\n",
       "<!-- 9&#45;&gt;11 -->\r\n",
       "<g id=\"edge11\" class=\"edge\"><title>9&#45;&gt;11</title>\r\n",
       "<path fill=\"none\" stroke=\"black\" d=\"M468.847,-88.9485C469.816,-80.6238 470.861,-71.6509 471.844,-63.2027\"/>\r\n",
       "<polygon fill=\"black\" stroke=\"black\" points=\"475.324,-63.5743 473.004,-53.2367 468.371,-62.7649 475.324,-63.5743\"/>\r\n",
       "</g>\r\n",
       "<!-- 13 -->\r\n",
       "<g id=\"node14\" class=\"node\"><title>13</title>\r\n",
       "<path fill=\"#e58139\" fill-opacity=\"0.290196\" stroke=\"black\" d=\"M670,-53C670,-53 572,-53 572,-53 566,-53 560,-47 560,-41 560,-41 560,-12 560,-12 560,-6 566,-0 572,-0 572,-0 670,-0 670,-0 676,-0 682,-6 682,-12 682,-12 682,-41 682,-41 682,-47 676,-53 670,-53\"/>\r\n",
       "<text text-anchor=\"middle\" x=\"621\" y=\"-37.8\" font-family=\"Helvetica,sans-Serif\" font-size=\"14.00\">mse = 1724.667</text>\r\n",
       "<text text-anchor=\"middle\" x=\"621\" y=\"-22.8\" font-family=\"Helvetica,sans-Serif\" font-size=\"14.00\">samples = 3</text>\r\n",
       "<text text-anchor=\"middle\" x=\"621\" y=\"-7.8\" font-family=\"Helvetica,sans-Serif\" font-size=\"14.00\">value = 545.0</text>\r\n",
       "</g>\r\n",
       "<!-- 12&#45;&gt;13 -->\r\n",
       "<g id=\"edge13\" class=\"edge\"><title>12&#45;&gt;13</title>\r\n",
       "<path fill=\"none\" stroke=\"black\" d=\"M680.823,-88.9485C671.828,-79.709 662.055,-69.671 653.067,-60.4381\"/>\r\n",
       "<polygon fill=\"black\" stroke=\"black\" points=\"655.539,-57.9605 646.056,-53.2367 650.524,-62.8434 655.539,-57.9605\"/>\r\n",
       "</g>\r\n",
       "<!-- 14 -->\r\n",
       "<g id=\"node15\" class=\"node\"><title>14</title>\r\n",
       "<path fill=\"#e58139\" fill-opacity=\"0.431373\" stroke=\"black\" d=\"M801.5,-53C801.5,-53 712.5,-53 712.5,-53 706.5,-53 700.5,-47 700.5,-41 700.5,-41 700.5,-12 700.5,-12 700.5,-6 706.5,-0 712.5,-0 712.5,-0 801.5,-0 801.5,-0 807.5,-0 813.5,-6 813.5,-12 813.5,-12 813.5,-41 813.5,-41 813.5,-47 807.5,-53 801.5,-53\"/>\r\n",
       "<text text-anchor=\"middle\" x=\"757\" y=\"-37.8\" font-family=\"Helvetica,sans-Serif\" font-size=\"14.00\">mse = 760.688</text>\r\n",
       "<text text-anchor=\"middle\" x=\"757\" y=\"-22.8\" font-family=\"Helvetica,sans-Serif\" font-size=\"14.00\">samples = 4</text>\r\n",
       "<text text-anchor=\"middle\" x=\"757\" y=\"-7.8\" font-family=\"Helvetica,sans-Serif\" font-size=\"14.00\">value = 610.75</text>\r\n",
       "</g>\r\n",
       "<!-- 12&#45;&gt;14 -->\r\n",
       "<g id=\"edge14\" class=\"edge\"><title>12&#45;&gt;14</title>\r\n",
       "<path fill=\"none\" stroke=\"black\" d=\"M728.389,-88.9485C732.393,-80.3494 736.719,-71.0586 740.765,-62.3689\"/>\r\n",
       "<polygon fill=\"black\" stroke=\"black\" points=\"743.969,-63.7796 745.017,-53.2367 737.623,-60.8249 743.969,-63.7796\"/>\r\n",
       "</g>\r\n",
       "<!-- 16 -->\r\n",
       "<g id=\"node17\" class=\"node\"><title>16</title>\r\n",
       "<path fill=\"#e58139\" fill-opacity=\"0.141176\" stroke=\"black\" d=\"M1045.5,-261C1045.5,-261 804.5,-261 804.5,-261 798.5,-261 792.5,-255 792.5,-249 792.5,-249 792.5,-205 792.5,-205 792.5,-199 798.5,-193 804.5,-193 804.5,-193 1045.5,-193 1045.5,-193 1051.5,-193 1057.5,-199 1057.5,-205 1057.5,-205 1057.5,-249 1057.5,-249 1057.5,-255 1051.5,-261 1045.5,-261\"/>\r\n",
       "<text text-anchor=\"middle\" x=\"925\" y=\"-245.8\" font-family=\"Helvetica,sans-Serif\" font-size=\"14.00\">Population_Driver_licence(%) &lt;= 0.562</text>\r\n",
       "<text text-anchor=\"middle\" x=\"925\" y=\"-230.8\" font-family=\"Helvetica,sans-Serif\" font-size=\"14.00\">mse = 1542.876</text>\r\n",
       "<text text-anchor=\"middle\" x=\"925\" y=\"-215.8\" font-family=\"Helvetica,sans-Serif\" font-size=\"14.00\">samples = 11</text>\r\n",
       "<text text-anchor=\"middle\" x=\"925\" y=\"-200.8\" font-family=\"Helvetica,sans-Serif\" font-size=\"14.00\">value = 474.818</text>\r\n",
       "</g>\r\n",
       "<!-- 15&#45;&gt;16 -->\r\n",
       "<g id=\"edge16\" class=\"edge\"><title>15&#45;&gt;16</title>\r\n",
       "<path fill=\"none\" stroke=\"black\" d=\"M925,-296.884C925,-288.778 925,-279.982 925,-271.472\"/>\r\n",
       "<polygon fill=\"black\" stroke=\"black\" points=\"928.5,-271.299 925,-261.299 921.5,-271.299 928.5,-271.299\"/>\r\n",
       "</g>\r\n",
       "<!-- 23 -->\r\n",
       "<g id=\"node24\" class=\"node\"><title>23</title>\r\n",
       "<path fill=\"#e58139\" fill-opacity=\"0.513725\" stroke=\"black\" d=\"M1166,-253.5C1166,-253.5 1088,-253.5 1088,-253.5 1082,-253.5 1076,-247.5 1076,-241.5 1076,-241.5 1076,-212.5 1076,-212.5 1076,-206.5 1082,-200.5 1088,-200.5 1088,-200.5 1166,-200.5 1166,-200.5 1172,-200.5 1178,-206.5 1178,-212.5 1178,-212.5 1178,-241.5 1178,-241.5 1178,-247.5 1172,-253.5 1166,-253.5\"/>\r\n",
       "<text text-anchor=\"middle\" x=\"1127\" y=\"-238.3\" font-family=\"Helvetica,sans-Serif\" font-size=\"14.00\">mse = 0.0</text>\r\n",
       "<text text-anchor=\"middle\" x=\"1127\" y=\"-223.3\" font-family=\"Helvetica,sans-Serif\" font-size=\"14.00\">samples = 1</text>\r\n",
       "<text text-anchor=\"middle\" x=\"1127\" y=\"-208.3\" font-family=\"Helvetica,sans-Serif\" font-size=\"14.00\">value = 649.0</text>\r\n",
       "</g>\r\n",
       "<!-- 15&#45;&gt;23 -->\r\n",
       "<g id=\"edge23\" class=\"edge\"><title>15&#45;&gt;23</title>\r\n",
       "<path fill=\"none\" stroke=\"black\" d=\"M994.128,-296.867C1017.1,-285.674 1042.74,-272.977 1066,-261 1067.73,-260.111 1069.48,-259.203 1071.24,-258.283\"/>\r\n",
       "<polygon fill=\"black\" stroke=\"black\" points=\"1072.93,-261.352 1080.14,-253.597 1069.67,-255.157 1072.93,-261.352\"/>\r\n",
       "</g>\r\n",
       "<!-- 17 -->\r\n",
       "<g id=\"node18\" class=\"node\"><title>17</title>\r\n",
       "<path fill=\"#e58139\" fill-opacity=\"0.098039\" stroke=\"black\" d=\"M1010,-157C1010,-157 840,-157 840,-157 834,-157 828,-151 828,-145 828,-145 828,-101 828,-101 828,-95 834,-89 840,-89 840,-89 1010,-89 1010,-89 1016,-89 1022,-95 1022,-101 1022,-101 1022,-145 1022,-145 1022,-151 1016,-157 1010,-157\"/>\r\n",
       "<text text-anchor=\"middle\" x=\"925\" y=\"-141.8\" font-family=\"Helvetica,sans-Serif\" font-size=\"14.00\">Average_income &lt;= 4423.0</text>\r\n",
       "<text text-anchor=\"middle\" x=\"925\" y=\"-126.8\" font-family=\"Helvetica,sans-Serif\" font-size=\"14.00\">mse = 766.75</text>\r\n",
       "<text text-anchor=\"middle\" x=\"925\" y=\"-111.8\" font-family=\"Helvetica,sans-Serif\" font-size=\"14.00\">samples = 8</text>\r\n",
       "<text text-anchor=\"middle\" x=\"925\" y=\"-96.8\" font-family=\"Helvetica,sans-Serif\" font-size=\"14.00\">value = 456.0</text>\r\n",
       "</g>\r\n",
       "<!-- 16&#45;&gt;17 -->\r\n",
       "<g id=\"edge17\" class=\"edge\"><title>16&#45;&gt;17</title>\r\n",
       "<path fill=\"none\" stroke=\"black\" d=\"M925,-192.884C925,-184.778 925,-175.982 925,-167.472\"/>\r\n",
       "<polygon fill=\"black\" stroke=\"black\" points=\"928.5,-167.299 925,-157.299 921.5,-167.299 928.5,-167.299\"/>\r\n",
       "</g>\r\n",
       "<!-- 20 -->\r\n",
       "<g id=\"node21\" class=\"node\"><title>20</title>\r\n",
       "<path fill=\"#e58139\" fill-opacity=\"0.247059\" stroke=\"black\" d=\"M1293.5,-157C1293.5,-157 1052.5,-157 1052.5,-157 1046.5,-157 1040.5,-151 1040.5,-145 1040.5,-145 1040.5,-101 1040.5,-101 1040.5,-95 1046.5,-89 1052.5,-89 1052.5,-89 1293.5,-89 1293.5,-89 1299.5,-89 1305.5,-95 1305.5,-101 1305.5,-101 1305.5,-145 1305.5,-145 1305.5,-151 1299.5,-157 1293.5,-157\"/>\r\n",
       "<text text-anchor=\"middle\" x=\"1173\" y=\"-141.8\" font-family=\"Helvetica,sans-Serif\" font-size=\"14.00\">Population_Driver_licence(%) &lt;= 0.572</text>\r\n",
       "<text text-anchor=\"middle\" x=\"1173\" y=\"-126.8\" font-family=\"Helvetica,sans-Serif\" font-size=\"14.00\">mse = 150.0</text>\r\n",
       "<text text-anchor=\"middle\" x=\"1173\" y=\"-111.8\" font-family=\"Helvetica,sans-Serif\" font-size=\"14.00\">samples = 3</text>\r\n",
       "<text text-anchor=\"middle\" x=\"1173\" y=\"-96.8\" font-family=\"Helvetica,sans-Serif\" font-size=\"14.00\">value = 525.0</text>\r\n",
       "</g>\r\n",
       "<!-- 16&#45;&gt;20 -->\r\n",
       "<g id=\"edge20\" class=\"edge\"><title>16&#45;&gt;20</title>\r\n",
       "<path fill=\"none\" stroke=\"black\" d=\"M1005.52,-192.884C1030.33,-182.677 1057.81,-171.377 1083.21,-160.931\"/>\r\n",
       "<polygon fill=\"black\" stroke=\"black\" points=\"1084.54,-164.165 1092.46,-157.125 1081.88,-157.692 1084.54,-164.165\"/>\r\n",
       "</g>\r\n",
       "<!-- 18 -->\r\n",
       "<g id=\"node19\" class=\"node\"><title>18</title>\r\n",
       "<path fill=\"none\" stroke=\"black\" d=\"M932,-53C932,-53 854,-53 854,-53 848,-53 842,-47 842,-41 842,-41 842,-12 842,-12 842,-6 848,-0 854,-0 854,-0 932,-0 932,-0 938,-0 944,-6 944,-12 944,-12 944,-41 944,-41 944,-47 938,-53 932,-53\"/>\r\n",
       "<text text-anchor=\"middle\" x=\"893\" y=\"-37.8\" font-family=\"Helvetica,sans-Serif\" font-size=\"14.00\">mse = 0.0</text>\r\n",
       "<text text-anchor=\"middle\" x=\"893\" y=\"-22.8\" font-family=\"Helvetica,sans-Serif\" font-size=\"14.00\">samples = 1</text>\r\n",
       "<text text-anchor=\"middle\" x=\"893\" y=\"-7.8\" font-family=\"Helvetica,sans-Serif\" font-size=\"14.00\">value = 410.0</text>\r\n",
       "</g>\r\n",
       "<!-- 17&#45;&gt;18 -->\r\n",
       "<g id=\"edge18\" class=\"edge\"><title>17&#45;&gt;18</title>\r\n",
       "<path fill=\"none\" stroke=\"black\" d=\"M913.808,-88.9485C910.958,-80.5323 907.884,-71.4536 904.996,-62.9243\"/>\r\n",
       "<polygon fill=\"black\" stroke=\"black\" points=\"908.238,-61.5858 901.715,-53.2367 901.607,-63.831 908.238,-61.5858\"/>\r\n",
       "</g>\r\n",
       "<!-- 19 -->\r\n",
       "<g id=\"node20\" class=\"node\"><title>19</title>\r\n",
       "<path fill=\"#e58139\" fill-opacity=\"0.113725\" stroke=\"black\" d=\"M1069.5,-53C1069.5,-53 974.5,-53 974.5,-53 968.5,-53 962.5,-47 962.5,-41 962.5,-41 962.5,-12 962.5,-12 962.5,-6 968.5,-0 974.5,-0 974.5,-0 1069.5,-0 1069.5,-0 1075.5,-0 1081.5,-6 1081.5,-12 1081.5,-12 1081.5,-41 1081.5,-41 1081.5,-47 1075.5,-53 1069.5,-53\"/>\r\n",
       "<text text-anchor=\"middle\" x=\"1022\" y=\"-37.8\" font-family=\"Helvetica,sans-Serif\" font-size=\"14.00\">mse = 530.816</text>\r\n",
       "<text text-anchor=\"middle\" x=\"1022\" y=\"-22.8\" font-family=\"Helvetica,sans-Serif\" font-size=\"14.00\">samples = 7</text>\r\n",
       "<text text-anchor=\"middle\" x=\"1022\" y=\"-7.8\" font-family=\"Helvetica,sans-Serif\" font-size=\"14.00\">value = 462.571</text>\r\n",
       "</g>\r\n",
       "<!-- 17&#45;&gt;19 -->\r\n",
       "<g id=\"edge19\" class=\"edge\"><title>17&#45;&gt;19</title>\r\n",
       "<path fill=\"none\" stroke=\"black\" d=\"M958.926,-88.9485C968.41,-79.709 978.713,-69.671 988.191,-60.4381\"/>\r\n",
       "<polygon fill=\"black\" stroke=\"black\" points=\"990.862,-62.7219 995.582,-53.2367 985.977,-57.7079 990.862,-62.7219\"/>\r\n",
       "</g>\r\n",
       "<!-- 21 -->\r\n",
       "<g id=\"node22\" class=\"node\"><title>21</title>\r\n",
       "<path fill=\"#e58139\" fill-opacity=\"0.215686\" stroke=\"black\" d=\"M1210,-53C1210,-53 1132,-53 1132,-53 1126,-53 1120,-47 1120,-41 1120,-41 1120,-12 1120,-12 1120,-6 1126,-0 1132,-0 1132,-0 1210,-0 1210,-0 1216,-0 1222,-6 1222,-12 1222,-12 1222,-41 1222,-41 1222,-47 1216,-53 1210,-53\"/>\r\n",
       "<text text-anchor=\"middle\" x=\"1171\" y=\"-37.8\" font-family=\"Helvetica,sans-Serif\" font-size=\"14.00\">mse = 0.0</text>\r\n",
       "<text text-anchor=\"middle\" x=\"1171\" y=\"-22.8\" font-family=\"Helvetica,sans-Serif\" font-size=\"14.00\">samples = 1</text>\r\n",
       "<text text-anchor=\"middle\" x=\"1171\" y=\"-7.8\" font-family=\"Helvetica,sans-Serif\" font-size=\"14.00\">value = 510.0</text>\r\n",
       "</g>\r\n",
       "<!-- 20&#45;&gt;21 -->\r\n",
       "<g id=\"edge21\" class=\"edge\"><title>20&#45;&gt;21</title>\r\n",
       "<path fill=\"none\" stroke=\"black\" d=\"M1172.3,-88.9485C1172.13,-80.7153 1171.94,-71.848 1171.76,-63.4814\"/>\r\n",
       "<polygon fill=\"black\" stroke=\"black\" points=\"1175.26,-63.1604 1171.54,-53.2367 1168.26,-63.3086 1175.26,-63.1604\"/>\r\n",
       "</g>\r\n",
       "<!-- 22 -->\r\n",
       "<g id=\"node23\" class=\"node\"><title>22</title>\r\n",
       "<path fill=\"#e58139\" fill-opacity=\"0.262745\" stroke=\"black\" d=\"M1330,-53C1330,-53 1252,-53 1252,-53 1246,-53 1240,-47 1240,-41 1240,-41 1240,-12 1240,-12 1240,-6 1246,-0 1252,-0 1252,-0 1330,-0 1330,-0 1336,-0 1342,-6 1342,-12 1342,-12 1342,-41 1342,-41 1342,-47 1336,-53 1330,-53\"/>\r\n",
       "<text text-anchor=\"middle\" x=\"1291\" y=\"-37.8\" font-family=\"Helvetica,sans-Serif\" font-size=\"14.00\">mse = 56.25</text>\r\n",
       "<text text-anchor=\"middle\" x=\"1291\" y=\"-22.8\" font-family=\"Helvetica,sans-Serif\" font-size=\"14.00\">samples = 2</text>\r\n",
       "<text text-anchor=\"middle\" x=\"1291\" y=\"-7.8\" font-family=\"Helvetica,sans-Serif\" font-size=\"14.00\">value = 532.5</text>\r\n",
       "</g>\r\n",
       "<!-- 20&#45;&gt;22 -->\r\n",
       "<g id=\"edge22\" class=\"edge\"><title>20&#45;&gt;22</title>\r\n",
       "<path fill=\"none\" stroke=\"black\" d=\"M1214.27,-88.9485C1226.15,-79.4346 1239.09,-69.074 1250.9,-59.6175\"/>\r\n",
       "<polygon fill=\"black\" stroke=\"black\" points=\"1253.25,-62.2196 1258.86,-53.2367 1248.87,-56.7558 1253.25,-62.2196\"/>\r\n",
       "</g>\r\n",
       "<!-- 25 -->\r\n",
       "<g id=\"node26\" class=\"node\"><title>25</title>\r\n",
       "<path fill=\"#e58139\" fill-opacity=\"0.494118\" stroke=\"black\" d=\"M1171,-357.5C1171,-357.5 1093,-357.5 1093,-357.5 1087,-357.5 1081,-351.5 1081,-345.5 1081,-345.5 1081,-316.5 1081,-316.5 1081,-310.5 1087,-304.5 1093,-304.5 1093,-304.5 1171,-304.5 1171,-304.5 1177,-304.5 1183,-310.5 1183,-316.5 1183,-316.5 1183,-345.5 1183,-345.5 1183,-351.5 1177,-357.5 1171,-357.5\"/>\r\n",
       "<text text-anchor=\"middle\" x=\"1132\" y=\"-342.3\" font-family=\"Helvetica,sans-Serif\" font-size=\"14.00\">mse = 0.0</text>\r\n",
       "<text text-anchor=\"middle\" x=\"1132\" y=\"-327.3\" font-family=\"Helvetica,sans-Serif\" font-size=\"14.00\">samples = 1</text>\r\n",
       "<text text-anchor=\"middle\" x=\"1132\" y=\"-312.3\" font-family=\"Helvetica,sans-Serif\" font-size=\"14.00\">value = 640.0</text>\r\n",
       "</g>\r\n",
       "<!-- 24&#45;&gt;25 -->\r\n",
       "<g id=\"edge25\" class=\"edge\"><title>24&#45;&gt;25</title>\r\n",
       "<path fill=\"none\" stroke=\"black\" d=\"M1133.35,-400.884C1133.14,-390.216 1132.91,-378.352 1132.7,-367.519\"/>\r\n",
       "<polygon fill=\"black\" stroke=\"black\" points=\"1136.2,-367.449 1132.5,-357.52 1129.2,-367.587 1136.2,-367.449\"/>\r\n",
       "</g>\r\n",
       "<!-- 26 -->\r\n",
       "<g id=\"node27\" class=\"node\"><title>26</title>\r\n",
       "<path fill=\"#e58139\" stroke=\"black\" d=\"M1294.5,-357.5C1294.5,-357.5 1213.5,-357.5 1213.5,-357.5 1207.5,-357.5 1201.5,-351.5 1201.5,-345.5 1201.5,-345.5 1201.5,-316.5 1201.5,-316.5 1201.5,-310.5 1207.5,-304.5 1213.5,-304.5 1213.5,-304.5 1294.5,-304.5 1294.5,-304.5 1300.5,-304.5 1306.5,-310.5 1306.5,-316.5 1306.5,-316.5 1306.5,-345.5 1306.5,-345.5 1306.5,-351.5 1300.5,-357.5 1294.5,-357.5\"/>\r\n",
       "<text text-anchor=\"middle\" x=\"1254\" y=\"-342.3\" font-family=\"Helvetica,sans-Serif\" font-size=\"14.00\">mse = 8649.0</text>\r\n",
       "<text text-anchor=\"middle\" x=\"1254\" y=\"-327.3\" font-family=\"Helvetica,sans-Serif\" font-size=\"14.00\">samples = 2</text>\r\n",
       "<text text-anchor=\"middle\" x=\"1254\" y=\"-312.3\" font-family=\"Helvetica,sans-Serif\" font-size=\"14.00\">value = 875.0</text>\r\n",
       "</g>\r\n",
       "<!-- 24&#45;&gt;26 -->\r\n",
       "<g id=\"edge26\" class=\"edge\"><title>24&#45;&gt;26</title>\r\n",
       "<path fill=\"none\" stroke=\"black\" d=\"M1172.96,-400.884C1186.8,-389.116 1202.36,-375.894 1216.11,-364.203\"/>\r\n",
       "<polygon fill=\"black\" stroke=\"black\" points=\"1218.62,-366.663 1223.98,-357.52 1214.09,-361.33 1218.62,-366.663\"/>\r\n",
       "</g>\r\n",
       "</g>\r\n",
       "</svg>\r\n"
      ],
      "text/plain": [
       "<graphviz.files.Source at 0x20d0f619be0>"
      ]
     },
     "execution_count": 25,
     "metadata": {},
     "output_type": "execute_result"
    }
   ],
   "source": [
    "graphviz.Source(eg)"
   ]
  },
  {
   "cell_type": "code",
   "execution_count": 26,
   "metadata": {},
   "outputs": [
    {
     "data": {
      "text/plain": [
       "array([462.57142857, 510.        , 532.5       , 537.5       ,\n",
       "       545.        , 627.75      , 875.        ])"
      ]
     },
     "execution_count": 26,
     "metadata": {},
     "output_type": "execute_result"
    }
   ],
   "source": [
    "np.unique(preds) #predicted values show same values as above graph"
   ]
  },
  {
   "cell_type": "code",
   "execution_count": 27,
   "metadata": {},
   "outputs": [
    {
     "data": {
      "text/plain": [
       "True"
      ]
     },
     "execution_count": 27,
     "metadata": {},
     "output_type": "execute_result"
    }
   ],
   "source": [
    "from pydotplus import graph_from_dot_data\n",
    "graph = graph_from_dot_data(eg)\n",
    "graph.write_png(r\"D:\\Jigsaw\\UC python\\ass5\\My_DT_Regressor_tree.png\")"
   ]
  },
  {
   "cell_type": "markdown",
   "metadata": {},
   "source": [
    "## Classification: \n",
    "\n",
    "Decision Trees for Classification\n",
    "The bill_authentication.csv file is taken from UCI Machine Learning repository (https://archive.ics.uci.edu/ml/datasets/banknote+authentication \n",
    "\n",
    "Use this dataset to predict whether a bank note is authentic or fake depending upon the four different attributes of the image of the note. The attributes are Variance of wavelet transformed image, curtosis of the image, entropy, and skewness of the image.\n",
    "\n",
    "Use Decision Trees to build a classifier for the give data. Use Grid Search to find the optimal value for the hyperparameters, and evaluate your model on suitable metrics. Show all of your work."
   ]
  },
  {
   "cell_type": "code",
   "execution_count": 28,
   "metadata": {},
   "outputs": [],
   "source": [
    "b=pd.read_csv(r\"D:\\Jigsaw\\UC python\\ass5\\bill_authentication.csv\")"
   ]
  },
  {
   "cell_type": "code",
   "execution_count": 29,
   "metadata": {},
   "outputs": [
    {
     "data": {
      "text/html": [
       "<div>\n",
       "<style scoped>\n",
       "    .dataframe tbody tr th:only-of-type {\n",
       "        vertical-align: middle;\n",
       "    }\n",
       "\n",
       "    .dataframe tbody tr th {\n",
       "        vertical-align: top;\n",
       "    }\n",
       "\n",
       "    .dataframe thead th {\n",
       "        text-align: right;\n",
       "    }\n",
       "</style>\n",
       "<table border=\"1\" class=\"dataframe\">\n",
       "  <thead>\n",
       "    <tr style=\"text-align: right;\">\n",
       "      <th></th>\n",
       "      <th>Variance</th>\n",
       "      <th>Skewness</th>\n",
       "      <th>Curtosis</th>\n",
       "      <th>Entropy</th>\n",
       "      <th>Class</th>\n",
       "    </tr>\n",
       "  </thead>\n",
       "  <tbody>\n",
       "    <tr>\n",
       "      <th>0</th>\n",
       "      <td>3.62</td>\n",
       "      <td>8.67</td>\n",
       "      <td>-2.81</td>\n",
       "      <td>-0.45</td>\n",
       "      <td>0</td>\n",
       "    </tr>\n",
       "    <tr>\n",
       "      <th>1</th>\n",
       "      <td>4.55</td>\n",
       "      <td>8.17</td>\n",
       "      <td>-2.46</td>\n",
       "      <td>-1.46</td>\n",
       "      <td>0</td>\n",
       "    </tr>\n",
       "    <tr>\n",
       "      <th>2</th>\n",
       "      <td>3.87</td>\n",
       "      <td>-2.64</td>\n",
       "      <td>1.92</td>\n",
       "      <td>0.11</td>\n",
       "      <td>0</td>\n",
       "    </tr>\n",
       "    <tr>\n",
       "      <th>3</th>\n",
       "      <td>3.46</td>\n",
       "      <td>9.52</td>\n",
       "      <td>-4.01</td>\n",
       "      <td>-3.59</td>\n",
       "      <td>0</td>\n",
       "    </tr>\n",
       "    <tr>\n",
       "      <th>4</th>\n",
       "      <td>0.33</td>\n",
       "      <td>-4.46</td>\n",
       "      <td>4.57</td>\n",
       "      <td>-0.99</td>\n",
       "      <td>0</td>\n",
       "    </tr>\n",
       "  </tbody>\n",
       "</table>\n",
       "</div>"
      ],
      "text/plain": [
       "   Variance  Skewness  Curtosis  Entropy  Class\n",
       "0      3.62      8.67     -2.81    -0.45      0\n",
       "1      4.55      8.17     -2.46    -1.46      0\n",
       "2      3.87     -2.64      1.92     0.11      0\n",
       "3      3.46      9.52     -4.01    -3.59      0\n",
       "4      0.33     -4.46      4.57    -0.99      0"
      ]
     },
     "execution_count": 29,
     "metadata": {},
     "output_type": "execute_result"
    }
   ],
   "source": [
    "b.head()"
   ]
  },
  {
   "cell_type": "code",
   "execution_count": 30,
   "metadata": {},
   "outputs": [
    {
     "data": {
      "text/plain": [
       "(array([762.,   0.,   0.,   0.,   0.,   0.,   0.,   0.,   0., 610.]),\n",
       " array([0. , 0.1, 0.2, 0.3, 0.4, 0.5, 0.6, 0.7, 0.8, 0.9, 1. ]),\n",
       " <a list of 10 Patch objects>)"
      ]
     },
     "execution_count": 30,
     "metadata": {},
     "output_type": "execute_result"
    },
    {
     "data": {
      "image/png": "[encoded data removed]",
      "text/plain": [
       "<Figure size 432x288 with 1 Axes>"
      ]
     },
     "metadata": {},
     "output_type": "display_data"
    }
   ],
   "source": [
    "plt.hist(b['Class']) #skewed target"
   ]
  },
  {
   "cell_type": "code",
   "execution_count": 31,
   "metadata": {},
   "outputs": [
    {
     "data": {
      "text/plain": [
       "Class\n",
       "0    762\n",
       "1    610\n",
       "Name: Class, dtype: int64"
      ]
     },
     "execution_count": 31,
     "metadata": {},
     "output_type": "execute_result"
    }
   ],
   "source": [
    "b['Class'].groupby(b['Class']).count() #skew not such an issue"
   ]
  },
  {
   "cell_type": "code",
   "execution_count": 32,
   "metadata": {},
   "outputs": [],
   "source": [
    "from sklearn.tree import DecisionTreeClassifier"
   ]
  },
  {
   "cell_type": "code",
   "execution_count": 33,
   "metadata": {},
   "outputs": [
    {
     "data": {
      "text/plain": [
       "Index(['Variance', 'Skewness', 'Curtosis', 'Entropy', 'Class'], dtype='object')"
      ]
     },
     "execution_count": 33,
     "metadata": {},
     "output_type": "execute_result"
    }
   ],
   "source": [
    "b.columns"
   ]
  },
  {
   "cell_type": "code",
   "execution_count": 34,
   "metadata": {},
   "outputs": [],
   "source": [
    "xtrb,xtsb,ytrb,ytsb=train_test_split(b[['Variance', 'Skewness', 'Curtosis', 'Entropy']], b['Class'], test_size=0.2, random_state=100,shuffle =True )"
   ]
  },
  {
   "cell_type": "code",
   "execution_count": 35,
   "metadata": {},
   "outputs": [
    {
     "data": {
      "text/plain": [
       "((1097, 4), (275, 4))"
      ]
     },
     "execution_count": 35,
     "metadata": {},
     "output_type": "execute_result"
    }
   ],
   "source": [
    "xtrb.shape, xtsb.shape"
   ]
  },
  {
   "cell_type": "code",
   "execution_count": 36,
   "metadata": {},
   "outputs": [
    {
     "data": {
      "text/plain": [
       "((1097,), (275,))"
      ]
     },
     "execution_count": 36,
     "metadata": {},
     "output_type": "execute_result"
    }
   ],
   "source": [
    "ytrb.shape, ytsb.shape"
   ]
  },
  {
   "cell_type": "code",
   "execution_count": 37,
   "metadata": {},
   "outputs": [],
   "source": [
    "from sklearn.metrics import confusion_matrix,roc_auc_score, roc_curve,f1_score"
   ]
  },
  {
   "cell_type": "code",
   "execution_count": 38,
   "metadata": {},
   "outputs": [],
   "source": [
    "params=[{\n",
    "    'max_depth':[2,3,4,5,6],\n",
    "    'min_samples_split':[2,3,4],\n",
    "    'max_features': [1,2,3]    \n",
    "}]"
   ]
  },
  {
   "cell_type": "code",
   "execution_count": 39,
   "metadata": {},
   "outputs": [],
   "source": [
    "ksb=[]\n",
    "aucb=[]\n",
    "f1b=[]\n",
    "for x in range(2,10):\n",
    "    gsb=GridSearchCV(estimator=DecisionTreeClassifier(random_state=100),param_grid=params,cv=x, scoring=\"f1\")\n",
    "    gsb.fit(xtrb,ytrb)\n",
    "    predsb = gsb.predict(xtsb)\n",
    "    aucb.append(roc_auc_score(ytsb, predsb))\n",
    "    ksb.append(x)\n",
    "    f1b.append(f1_score(ytsb, predsb))"
   ]
  },
  {
   "cell_type": "code",
   "execution_count": 40,
   "metadata": {
    "scrolled": true
   },
   "outputs": [
    {
     "data": {
      "image/png": "[encoded data removed]",
      "text/plain": [
       "<Figure size 432x288 with 1 Axes>"
      ]
     },
     "metadata": {},
     "output_type": "display_data"
    }
   ],
   "source": [
    "plt.plot(ksb,aucb)\n",
    "plt.title(\"Selecting the best value for K in K-fold\")\n",
    "plt.xlabel(\"CV K value\")\n",
    "plt.ylabel(\"AUC value\")\n",
    "plt.show()"
   ]
  },
  {
   "cell_type": "code",
   "execution_count": 41,
   "metadata": {},
   "outputs": [
    {
     "data": {
      "image/png": "[encoded data removed]",
      "text/plain": [
       "<Figure size 432x288 with 1 Axes>"
      ]
     },
     "metadata": {},
     "output_type": "display_data"
    }
   ],
   "source": [
    "plt.plot(ksb,f1b)\n",
    "plt.title(\"Selecting the best value for K in K-fold\")\n",
    "plt.xlabel(\"CV K value\")\n",
    "plt.ylabel(\"F1 value\")\n",
    "plt.show()"
   ]
  },
  {
   "cell_type": "code",
   "execution_count": 42,
   "metadata": {},
   "outputs": [
    {
     "name": "stdout",
     "output_type": "stream",
     "text": [
      "F1: 0.9911504424778761  AUC:  0.9938650306748466\n"
     ]
    },
    {
     "data": {
      "text/plain": [
       "{'max_depth': 6, 'max_features': 2, 'min_samples_split': 2}"
      ]
     },
     "execution_count": 42,
     "metadata": {},
     "output_type": "execute_result"
    }
   ],
   "source": [
    "gsb=GridSearchCV(estimator=DecisionTreeClassifier(random_state=100),param_grid=params,cv=3,scoring=\"f1\") #lets choose 3 - fold CV\n",
    "gsb.fit(xtrb,ytrb)\n",
    "preds = gsb.predict(xtsb)\n",
    "f1score=f1_score(ytsb, predsb)\n",
    "auc=roc_auc_score(ytsb, predsb)\n",
    "print(\"F1:\", f1score , \" AUC: \" ,auc )\n",
    "gsb.best_params_"
   ]
  },
  {
   "cell_type": "code",
   "execution_count": 43,
   "metadata": {},
   "outputs": [
    {
     "data": {
      "text/html": [
       "<div>\n",
       "<style scoped>\n",
       "    .dataframe tbody tr th:only-of-type {\n",
       "        vertical-align: middle;\n",
       "    }\n",
       "\n",
       "    .dataframe tbody tr th {\n",
       "        vertical-align: top;\n",
       "    }\n",
       "\n",
       "    .dataframe thead th {\n",
       "        text-align: right;\n",
       "    }\n",
       "</style>\n",
       "<table border=\"1\" class=\"dataframe\">\n",
       "  <thead>\n",
       "    <tr style=\"text-align: right;\">\n",
       "      <th></th>\n",
       "      <th>Predicted neg</th>\n",
       "      <th>Predicted pos</th>\n",
       "    </tr>\n",
       "  </thead>\n",
       "  <tbody>\n",
       "    <tr>\n",
       "      <th>Actual neg</th>\n",
       "      <td>161</td>\n",
       "      <td>2</td>\n",
       "    </tr>\n",
       "    <tr>\n",
       "      <th>Actual pos</th>\n",
       "      <td>0</td>\n",
       "      <td>112</td>\n",
       "    </tr>\n",
       "  </tbody>\n",
       "</table>\n",
       "</div>"
      ],
      "text/plain": [
       "            Predicted neg  Predicted pos\n",
       "Actual neg            161              2\n",
       "Actual pos              0            112"
      ]
     },
     "execution_count": 43,
     "metadata": {},
     "output_type": "execute_result"
    }
   ],
   "source": [
    "pd.DataFrame(confusion_matrix(ytsb, predsb), index=['Actual neg','Actual pos'], columns=['Predicted neg','Predicted pos'] )"
   ]
  },
  {
   "cell_type": "code",
   "execution_count": 44,
   "metadata": {},
   "outputs": [],
   "source": [
    "egb=export_graphviz(gsb.best_estimator_, filled=True, rounded=True, feature_names=xtrb.columns, out_file=None)"
   ]
  },
  {
   "cell_type": "code",
   "execution_count": 45,
   "metadata": {},
   "outputs": [
    {
     "data": {
      "text/plain": [
       "True"
      ]
     },
     "execution_count": 45,
     "metadata": {},
     "output_type": "execute_result"
    }
   ],
   "source": [
    "graph = graph_from_dot_data(egb)\n",
    "graph.write_png(r\"D:\\Jigsaw\\UC python\\ass5\\My_DT_Classifier_tree.png\")"
   ]
  },
  {
   "cell_type": "code",
   "execution_count": 46,
   "metadata": {},
   "outputs": [
    {
     "data": {
      "image/svg+xml": [
       "<?xml version=\"1.0\" encoding=\"UTF-8\" standalone=\"no\"?>\r\n",
       "<!DOCTYPE svg PUBLIC \"-//W3C//DTD SVG 1.1//EN\"\r\n",
       " \"http://www.w3.org/Graphics/SVG/1.1/DTD/svg11.dtd\">\r\n",
       "<!-- Generated by graphviz version 2.38.0 (20140413.2041)\r\n",
       " -->\r\n",
       "<!-- Title: Tree Pages: 1 -->\r\n",
       "<svg width=\"1533pt\" height=\"685pt\"\r\n",
       " viewBox=\"0.00 0.00 1533.00 685.00\" xmlns=\"http://www.w3.org/2000/svg\" xmlns:xlink=\"http://www.w3.org/1999/xlink\">\r\n",
       "<g id=\"graph0\" class=\"graph\" transform=\"scale(1 1) rotate(0) translate(4 681)\">\r\n",
       "<title>Tree</title>\r\n",
       "<polygon fill=\"white\" stroke=\"none\" points=\"-4,4 -4,-681 1529,-681 1529,4 -4,4\"/>\r\n",
       "<!-- 0 -->\r\n",
       "<g id=\"node1\" class=\"node\"><title>0</title>\r\n",
       "<path fill=\"#e58139\" fill-opacity=\"0.168627\" stroke=\"black\" d=\"M851,-677C851,-677 732,-677 732,-677 726,-677 720,-671 720,-665 720,-665 720,-621 720,-621 720,-615 726,-609 732,-609 732,-609 851,-609 851,-609 857,-609 863,-615 863,-621 863,-621 863,-665 863,-665 863,-671 857,-677 851,-677\"/>\r\n",
       "<text text-anchor=\"middle\" x=\"791.5\" y=\"-661.8\" font-family=\"Helvetica,sans-Serif\" font-size=\"14.00\">Skewness &lt;= 5.161</text>\r\n",
       "<text text-anchor=\"middle\" x=\"791.5\" y=\"-646.8\" font-family=\"Helvetica,sans-Serif\" font-size=\"14.00\">gini = 0.496</text>\r\n",
       "<text text-anchor=\"middle\" x=\"791.5\" y=\"-631.8\" font-family=\"Helvetica,sans-Serif\" font-size=\"14.00\">samples = 1097</text>\r\n",
       "<text text-anchor=\"middle\" x=\"791.5\" y=\"-616.8\" font-family=\"Helvetica,sans-Serif\" font-size=\"14.00\">value = [599, 498]</text>\r\n",
       "</g>\r\n",
       "<!-- 1 -->\r\n",
       "<g id=\"node2\" class=\"node\"><title>1</title>\r\n",
       "<path fill=\"#399de5\" fill-opacity=\"0.400000\" stroke=\"black\" d=\"M749,-573C749,-573 640,-573 640,-573 634,-573 628,-567 628,-561 628,-561 628,-517 628,-517 628,-511 634,-505 640,-505 640,-505 749,-505 749,-505 755,-505 761,-511 761,-517 761,-517 761,-561 761,-561 761,-567 755,-573 749,-573\"/>\r\n",
       "<text text-anchor=\"middle\" x=\"694.5\" y=\"-557.8\" font-family=\"Helvetica,sans-Serif\" font-size=\"14.00\">Variance &lt;= 1.592</text>\r\n",
       "<text text-anchor=\"middle\" x=\"694.5\" y=\"-542.8\" font-family=\"Helvetica,sans-Serif\" font-size=\"14.00\">gini = 0.469</text>\r\n",
       "<text text-anchor=\"middle\" x=\"694.5\" y=\"-527.8\" font-family=\"Helvetica,sans-Serif\" font-size=\"14.00\">samples = 743</text>\r\n",
       "<text text-anchor=\"middle\" x=\"694.5\" y=\"-512.8\" font-family=\"Helvetica,sans-Serif\" font-size=\"14.00\">value = [279, 464]</text>\r\n",
       "</g>\r\n",
       "<!-- 0&#45;&gt;1 -->\r\n",
       "<g id=\"edge1\" class=\"edge\"><title>0&#45;&gt;1</title>\r\n",
       "<path fill=\"none\" stroke=\"black\" d=\"M760.007,-608.884C751.451,-599.887 742.088,-590.041 733.184,-580.678\"/>\r\n",
       "<polygon fill=\"black\" stroke=\"black\" points=\"735.595,-578.134 726.167,-573.299 730.522,-582.958 735.595,-578.134\"/>\r\n",
       "<text text-anchor=\"middle\" x=\"725.539\" y=\"-594.591\" font-family=\"Helvetica,sans-Serif\" font-size=\"14.00\">True</text>\r\n",
       "</g>\r\n",
       "<!-- 26 -->\r\n",
       "<g id=\"node27\" class=\"node\"><title>26</title>\r\n",
       "<path fill=\"#e58139\" fill-opacity=\"0.894118\" stroke=\"black\" d=\"M942,-573C942,-573 835,-573 835,-573 829,-573 823,-567 823,-561 823,-561 823,-517 823,-517 823,-511 829,-505 835,-505 835,-505 942,-505 942,-505 948,-505 954,-511 954,-517 954,-517 954,-561 954,-561 954,-567 948,-573 942,-573\"/>\r\n",
       "<text text-anchor=\"middle\" x=\"888.5\" y=\"-557.8\" font-family=\"Helvetica,sans-Serif\" font-size=\"14.00\">Entropy &lt;= &#45;5.891</text>\r\n",
       "<text text-anchor=\"middle\" x=\"888.5\" y=\"-542.8\" font-family=\"Helvetica,sans-Serif\" font-size=\"14.00\">gini = 0.174</text>\r\n",
       "<text text-anchor=\"middle\" x=\"888.5\" y=\"-527.8\" font-family=\"Helvetica,sans-Serif\" font-size=\"14.00\">samples = 354</text>\r\n",
       "<text text-anchor=\"middle\" x=\"888.5\" y=\"-512.8\" font-family=\"Helvetica,sans-Serif\" font-size=\"14.00\">value = [320, 34]</text>\r\n",
       "</g>\r\n",
       "<!-- 0&#45;&gt;26 -->\r\n",
       "<g id=\"edge26\" class=\"edge\"><title>0&#45;&gt;26</title>\r\n",
       "<path fill=\"none\" stroke=\"black\" d=\"M822.993,-608.884C831.549,-599.887 840.912,-590.041 849.816,-580.678\"/>\r\n",
       "<polygon fill=\"black\" stroke=\"black\" points=\"852.478,-582.958 856.833,-573.299 847.405,-578.134 852.478,-582.958\"/>\r\n",
       "<text text-anchor=\"middle\" x=\"857.461\" y=\"-594.591\" font-family=\"Helvetica,sans-Serif\" font-size=\"14.00\">False</text>\r\n",
       "</g>\r\n",
       "<!-- 2 -->\r\n",
       "<g id=\"node3\" class=\"node\"><title>2</title>\r\n",
       "<path fill=\"#399de5\" fill-opacity=\"0.847059\" stroke=\"black\" d=\"M523.5,-469C523.5,-469 417.5,-469 417.5,-469 411.5,-469 405.5,-463 405.5,-457 405.5,-457 405.5,-413 405.5,-413 405.5,-407 411.5,-401 417.5,-401 417.5,-401 523.5,-401 523.5,-401 529.5,-401 535.5,-407 535.5,-413 535.5,-413 535.5,-457 535.5,-457 535.5,-463 529.5,-469 523.5,-469\"/>\r\n",
       "<text text-anchor=\"middle\" x=\"470.5\" y=\"-453.8\" font-family=\"Helvetica,sans-Serif\" font-size=\"14.00\">Curtosis &lt;= 0.747</text>\r\n",
       "<text text-anchor=\"middle\" x=\"470.5\" y=\"-438.8\" font-family=\"Helvetica,sans-Serif\" font-size=\"14.00\">gini = 0.231</text>\r\n",
       "<text text-anchor=\"middle\" x=\"470.5\" y=\"-423.8\" font-family=\"Helvetica,sans-Serif\" font-size=\"14.00\">samples = 526</text>\r\n",
       "<text text-anchor=\"middle\" x=\"470.5\" y=\"-408.8\" font-family=\"Helvetica,sans-Serif\" font-size=\"14.00\">value = [70, 456]</text>\r\n",
       "</g>\r\n",
       "<!-- 1&#45;&gt;2 -->\r\n",
       "<g id=\"edge2\" class=\"edge\"><title>1&#45;&gt;2</title>\r\n",
       "<path fill=\"none\" stroke=\"black\" d=\"M627.899,-507.673C601.827,-495.801 571.805,-482.13 545.016,-469.931\"/>\r\n",
       "<polygon fill=\"black\" stroke=\"black\" points=\"546.239,-466.642 535.687,-465.684 543.338,-473.013 546.239,-466.642\"/>\r\n",
       "</g>\r\n",
       "<!-- 23 -->\r\n",
       "<g id=\"node24\" class=\"node\"><title>23</title>\r\n",
       "<path fill=\"#e58139\" fill-opacity=\"0.960784\" stroke=\"black\" d=\"M749.5,-469C749.5,-469 639.5,-469 639.5,-469 633.5,-469 627.5,-463 627.5,-457 627.5,-457 627.5,-413 627.5,-413 627.5,-407 633.5,-401 639.5,-401 639.5,-401 749.5,-401 749.5,-401 755.5,-401 761.5,-407 761.5,-413 761.5,-413 761.5,-457 761.5,-457 761.5,-463 755.5,-469 749.5,-469\"/>\r\n",
       "<text text-anchor=\"middle\" x=\"694.5\" y=\"-453.8\" font-family=\"Helvetica,sans-Serif\" font-size=\"14.00\">Curtosis &lt;= &#45;2.598</text>\r\n",
       "<text text-anchor=\"middle\" x=\"694.5\" y=\"-438.8\" font-family=\"Helvetica,sans-Serif\" font-size=\"14.00\">gini = 0.071</text>\r\n",
       "<text text-anchor=\"middle\" x=\"694.5\" y=\"-423.8\" font-family=\"Helvetica,sans-Serif\" font-size=\"14.00\">samples = 217</text>\r\n",
       "<text text-anchor=\"middle\" x=\"694.5\" y=\"-408.8\" font-family=\"Helvetica,sans-Serif\" font-size=\"14.00\">value = [209, 8]</text>\r\n",
       "</g>\r\n",
       "<!-- 1&#45;&gt;23 -->\r\n",
       "<g id=\"edge23\" class=\"edge\"><title>1&#45;&gt;23</title>\r\n",
       "<path fill=\"none\" stroke=\"black\" d=\"M694.5,-504.884C694.5,-496.778 694.5,-487.982 694.5,-479.472\"/>\r\n",
       "<polygon fill=\"black\" stroke=\"black\" points=\"698,-479.299 694.5,-469.299 691,-479.299 698,-479.299\"/>\r\n",
       "</g>\r\n",
       "<!-- 3 -->\r\n",
       "<g id=\"node4\" class=\"node\"><title>3</title>\r\n",
       "<path fill=\"#399de5\" fill-opacity=\"0.996078\" stroke=\"black\" d=\"M256,-365C256,-365 137,-365 137,-365 131,-365 125,-359 125,-353 125,-353 125,-309 125,-309 125,-303 131,-297 137,-297 137,-297 256,-297 256,-297 262,-297 268,-303 268,-309 268,-309 268,-353 268,-353 268,-359 262,-365 256,-365\"/>\r\n",
       "<text text-anchor=\"middle\" x=\"196.5\" y=\"-349.8\" font-family=\"Helvetica,sans-Serif\" font-size=\"14.00\">Skewness &lt;= 4.358</text>\r\n",
       "<text text-anchor=\"middle\" x=\"196.5\" y=\"-334.8\" font-family=\"Helvetica,sans-Serif\" font-size=\"14.00\">gini = 0.009</text>\r\n",
       "<text text-anchor=\"middle\" x=\"196.5\" y=\"-319.8\" font-family=\"Helvetica,sans-Serif\" font-size=\"14.00\">samples = 225</text>\r\n",
       "<text text-anchor=\"middle\" x=\"196.5\" y=\"-304.8\" font-family=\"Helvetica,sans-Serif\" font-size=\"14.00\">value = [1, 224]</text>\r\n",
       "</g>\r\n",
       "<!-- 2&#45;&gt;3 -->\r\n",
       "<g id=\"edge3\" class=\"edge\"><title>2&#45;&gt;3</title>\r\n",
       "<path fill=\"none\" stroke=\"black\" d=\"M405.218,-409.698C366.971,-395.46 318.339,-377.356 277.641,-362.206\"/>\r\n",
       "<polygon fill=\"black\" stroke=\"black\" points=\"278.609,-358.831 268.016,-358.623 276.166,-365.392 278.609,-358.831\"/>\r\n",
       "</g>\r\n",
       "<!-- 8 -->\r\n",
       "<g id=\"node9\" class=\"node\"><title>8</title>\r\n",
       "<path fill=\"#399de5\" fill-opacity=\"0.701961\" stroke=\"black\" d=\"M527,-365C527,-365 414,-365 414,-365 408,-365 402,-359 402,-353 402,-353 402,-309 402,-309 402,-303 408,-297 414,-297 414,-297 527,-297 527,-297 533,-297 539,-303 539,-309 539,-309 539,-353 539,-353 539,-359 533,-365 527,-365\"/>\r\n",
       "<text text-anchor=\"middle\" x=\"470.5\" y=\"-349.8\" font-family=\"Helvetica,sans-Serif\" font-size=\"14.00\">Variance &lt;= &#45;0.463</text>\r\n",
       "<text text-anchor=\"middle\" x=\"470.5\" y=\"-334.8\" font-family=\"Helvetica,sans-Serif\" font-size=\"14.00\">gini = 0.353</text>\r\n",
       "<text text-anchor=\"middle\" x=\"470.5\" y=\"-319.8\" font-family=\"Helvetica,sans-Serif\" font-size=\"14.00\">samples = 301</text>\r\n",
       "<text text-anchor=\"middle\" x=\"470.5\" y=\"-304.8\" font-family=\"Helvetica,sans-Serif\" font-size=\"14.00\">value = [69, 232]</text>\r\n",
       "</g>\r\n",
       "<!-- 2&#45;&gt;8 -->\r\n",
       "<g id=\"edge8\" class=\"edge\"><title>2&#45;&gt;8</title>\r\n",
       "<path fill=\"none\" stroke=\"black\" d=\"M470.5,-400.884C470.5,-392.778 470.5,-383.982 470.5,-375.472\"/>\r\n",
       "<polygon fill=\"black\" stroke=\"black\" points=\"474,-375.299 470.5,-365.299 467,-375.299 474,-375.299\"/>\r\n",
       "</g>\r\n",
       "<!-- 4 -->\r\n",
       "<g id=\"node5\" class=\"node\"><title>4</title>\r\n",
       "<path fill=\"#399de5\" stroke=\"black\" d=\"M101,-253.5C101,-253.5 12,-253.5 12,-253.5 6,-253.5 0,-247.5 0,-241.5 0,-241.5 0,-212.5 0,-212.5 0,-206.5 6,-200.5 12,-200.5 12,-200.5 101,-200.5 101,-200.5 107,-200.5 113,-206.5 113,-212.5 113,-212.5 113,-241.5 113,-241.5 113,-247.5 107,-253.5 101,-253.5\"/>\r\n",
       "<text text-anchor=\"middle\" x=\"56.5\" y=\"-238.3\" font-family=\"Helvetica,sans-Serif\" font-size=\"14.00\">gini = 0.0</text>\r\n",
       "<text text-anchor=\"middle\" x=\"56.5\" y=\"-223.3\" font-family=\"Helvetica,sans-Serif\" font-size=\"14.00\">samples = 211</text>\r\n",
       "<text text-anchor=\"middle\" x=\"56.5\" y=\"-208.3\" font-family=\"Helvetica,sans-Serif\" font-size=\"14.00\">value = [0, 211]</text>\r\n",
       "</g>\r\n",
       "<!-- 3&#45;&gt;4 -->\r\n",
       "<g id=\"edge4\" class=\"edge\"><title>3&#45;&gt;4</title>\r\n",
       "<path fill=\"none\" stroke=\"black\" d=\"M151.046,-296.884C134.592,-284.896 116.067,-271.399 99.8032,-259.549\"/>\r\n",
       "<polygon fill=\"black\" stroke=\"black\" points=\"101.671,-256.58 91.5274,-253.52 97.5487,-262.237 101.671,-256.58\"/>\r\n",
       "</g>\r\n",
       "<!-- 5 -->\r\n",
       "<g id=\"node6\" class=\"node\"><title>5</title>\r\n",
       "<path fill=\"#399de5\" fill-opacity=\"0.921569\" stroke=\"black\" d=\"M250,-261C250,-261 143,-261 143,-261 137,-261 131,-255 131,-249 131,-249 131,-205 131,-205 131,-199 137,-193 143,-193 143,-193 250,-193 250,-193 256,-193 262,-199 262,-205 262,-205 262,-249 262,-249 262,-255 256,-261 250,-261\"/>\r\n",
       "<text text-anchor=\"middle\" x=\"196.5\" y=\"-245.8\" font-family=\"Helvetica,sans-Serif\" font-size=\"14.00\">Entropy &lt;= &#45;3.007</text>\r\n",
       "<text text-anchor=\"middle\" x=\"196.5\" y=\"-230.8\" font-family=\"Helvetica,sans-Serif\" font-size=\"14.00\">gini = 0.133</text>\r\n",
       "<text text-anchor=\"middle\" x=\"196.5\" y=\"-215.8\" font-family=\"Helvetica,sans-Serif\" font-size=\"14.00\">samples = 14</text>\r\n",
       "<text text-anchor=\"middle\" x=\"196.5\" y=\"-200.8\" font-family=\"Helvetica,sans-Serif\" font-size=\"14.00\">value = [1, 13]</text>\r\n",
       "</g>\r\n",
       "<!-- 3&#45;&gt;5 -->\r\n",
       "<g id=\"edge5\" class=\"edge\"><title>3&#45;&gt;5</title>\r\n",
       "<path fill=\"none\" stroke=\"black\" d=\"M196.5,-296.884C196.5,-288.778 196.5,-279.982 196.5,-271.472\"/>\r\n",
       "<polygon fill=\"black\" stroke=\"black\" points=\"200,-271.299 196.5,-261.299 193,-271.299 200,-271.299\"/>\r\n",
       "</g>\r\n",
       "<!-- 6 -->\r\n",
       "<g id=\"node7\" class=\"node\"><title>6</title>\r\n",
       "<path fill=\"#399de5\" stroke=\"black\" d=\"M118,-149.5C118,-149.5 37,-149.5 37,-149.5 31,-149.5 25,-143.5 25,-137.5 25,-137.5 25,-108.5 25,-108.5 25,-102.5 31,-96.5 37,-96.5 37,-96.5 118,-96.5 118,-96.5 124,-96.5 130,-102.5 130,-108.5 130,-108.5 130,-137.5 130,-137.5 130,-143.5 124,-149.5 118,-149.5\"/>\r\n",
       "<text text-anchor=\"middle\" x=\"77.5\" y=\"-134.3\" font-family=\"Helvetica,sans-Serif\" font-size=\"14.00\">gini = 0.0</text>\r\n",
       "<text text-anchor=\"middle\" x=\"77.5\" y=\"-119.3\" font-family=\"Helvetica,sans-Serif\" font-size=\"14.00\">samples = 13</text>\r\n",
       "<text text-anchor=\"middle\" x=\"77.5\" y=\"-104.3\" font-family=\"Helvetica,sans-Serif\" font-size=\"14.00\">value = [0, 13]</text>\r\n",
       "</g>\r\n",
       "<!-- 5&#45;&gt;6 -->\r\n",
       "<g id=\"edge6\" class=\"edge\"><title>5&#45;&gt;6</title>\r\n",
       "<path fill=\"none\" stroke=\"black\" d=\"M157.864,-192.884C144.135,-181.116 128.709,-167.894 115.071,-156.203\"/>\r\n",
       "<polygon fill=\"black\" stroke=\"black\" points=\"117.144,-153.37 107.273,-149.52 112.588,-158.685 117.144,-153.37\"/>\r\n",
       "</g>\r\n",
       "<!-- 7 -->\r\n",
       "<g id=\"node8\" class=\"node\"><title>7</title>\r\n",
       "<path fill=\"#e58139\" stroke=\"black\" d=\"M233,-149.5C233,-149.5 160,-149.5 160,-149.5 154,-149.5 148,-143.5 148,-137.5 148,-137.5 148,-108.5 148,-108.5 148,-102.5 154,-96.5 160,-96.5 160,-96.5 233,-96.5 233,-96.5 239,-96.5 245,-102.5 245,-108.5 245,-108.5 245,-137.5 245,-137.5 245,-143.5 239,-149.5 233,-149.5\"/>\r\n",
       "<text text-anchor=\"middle\" x=\"196.5\" y=\"-134.3\" font-family=\"Helvetica,sans-Serif\" font-size=\"14.00\">gini = 0.0</text>\r\n",
       "<text text-anchor=\"middle\" x=\"196.5\" y=\"-119.3\" font-family=\"Helvetica,sans-Serif\" font-size=\"14.00\">samples = 1</text>\r\n",
       "<text text-anchor=\"middle\" x=\"196.5\" y=\"-104.3\" font-family=\"Helvetica,sans-Serif\" font-size=\"14.00\">value = [1, 0]</text>\r\n",
       "</g>\r\n",
       "<!-- 5&#45;&gt;7 -->\r\n",
       "<g id=\"edge7\" class=\"edge\"><title>5&#45;&gt;7</title>\r\n",
       "<path fill=\"none\" stroke=\"black\" d=\"M196.5,-192.884C196.5,-182.326 196.5,-170.597 196.5,-159.854\"/>\r\n",
       "<polygon fill=\"black\" stroke=\"black\" points=\"200,-159.52 196.5,-149.52 193,-159.52 200,-159.52\"/>\r\n",
       "</g>\r\n",
       "<!-- 9 -->\r\n",
       "<g id=\"node10\" class=\"node\"><title>9</title>\r\n",
       "<path fill=\"#399de5\" fill-opacity=\"0.941176\" stroke=\"black\" d=\"M530,-261C530,-261 411,-261 411,-261 405,-261 399,-255 399,-249 399,-249 399,-205 399,-205 399,-199 405,-193 411,-193 411,-193 530,-193 530,-193 536,-193 542,-199 542,-205 542,-205 542,-249 542,-249 542,-255 536,-261 530,-261\"/>\r\n",
       "<text text-anchor=\"middle\" x=\"470.5\" y=\"-245.8\" font-family=\"Helvetica,sans-Serif\" font-size=\"14.00\">Skewness &lt;= 0.709</text>\r\n",
       "<text text-anchor=\"middle\" x=\"470.5\" y=\"-230.8\" font-family=\"Helvetica,sans-Serif\" font-size=\"14.00\">gini = 0.105</text>\r\n",
       "<text text-anchor=\"middle\" x=\"470.5\" y=\"-215.8\" font-family=\"Helvetica,sans-Serif\" font-size=\"14.00\">samples = 234</text>\r\n",
       "<text text-anchor=\"middle\" x=\"470.5\" y=\"-200.8\" font-family=\"Helvetica,sans-Serif\" font-size=\"14.00\">value = [13, 221]</text>\r\n",
       "</g>\r\n",
       "<!-- 8&#45;&gt;9 -->\r\n",
       "<g id=\"edge9\" class=\"edge\"><title>8&#45;&gt;9</title>\r\n",
       "<path fill=\"none\" stroke=\"black\" d=\"M470.5,-296.884C470.5,-288.778 470.5,-279.982 470.5,-271.472\"/>\r\n",
       "<polygon fill=\"black\" stroke=\"black\" points=\"474,-271.299 470.5,-261.299 467,-271.299 474,-271.299\"/>\r\n",
       "</g>\r\n",
       "<!-- 16 -->\r\n",
       "<g id=\"node17\" class=\"node\"><title>16</title>\r\n",
       "<path fill=\"#e58139\" fill-opacity=\"0.803922\" stroke=\"black\" d=\"M764.5,-261C764.5,-261 658.5,-261 658.5,-261 652.5,-261 646.5,-255 646.5,-249 646.5,-249 646.5,-205 646.5,-205 646.5,-199 652.5,-193 658.5,-193 658.5,-193 764.5,-193 764.5,-193 770.5,-193 776.5,-199 776.5,-205 776.5,-205 776.5,-249 776.5,-249 776.5,-255 770.5,-261 764.5,-261\"/>\r\n",
       "<text text-anchor=\"middle\" x=\"711.5\" y=\"-245.8\" font-family=\"Helvetica,sans-Serif\" font-size=\"14.00\">Curtosis &lt;= 2.167</text>\r\n",
       "<text text-anchor=\"middle\" x=\"711.5\" y=\"-230.8\" font-family=\"Helvetica,sans-Serif\" font-size=\"14.00\">gini = 0.274</text>\r\n",
       "<text text-anchor=\"middle\" x=\"711.5\" y=\"-215.8\" font-family=\"Helvetica,sans-Serif\" font-size=\"14.00\">samples = 67</text>\r\n",
       "<text text-anchor=\"middle\" x=\"711.5\" y=\"-200.8\" font-family=\"Helvetica,sans-Serif\" font-size=\"14.00\">value = [56, 11]</text>\r\n",
       "</g>\r\n",
       "<!-- 8&#45;&gt;16 -->\r\n",
       "<g id=\"edge16\" class=\"edge\"><title>8&#45;&gt;16</title>\r\n",
       "<path fill=\"none\" stroke=\"black\" d=\"M539.337,-300.471C542.094,-299.298 544.823,-298.137 547.5,-297 576.749,-284.58 608.973,-271 637.058,-259.197\"/>\r\n",
       "<polygon fill=\"black\" stroke=\"black\" points=\"638.55,-262.367 646.414,-255.267 635.838,-255.913 638.55,-262.367\"/>\r\n",
       "</g>\r\n",
       "<!-- 10 -->\r\n",
       "<g id=\"node11\" class=\"node\"><title>10</title>\r\n",
       "<path fill=\"#399de5\" fill-opacity=\"0.992157\" stroke=\"black\" d=\"M388,-157C388,-157 275,-157 275,-157 269,-157 263,-151 263,-145 263,-145 263,-101 263,-101 263,-95 269,-89 275,-89 275,-89 388,-89 388,-89 394,-89 400,-95 400,-101 400,-101 400,-145 400,-145 400,-151 394,-157 388,-157\"/>\r\n",
       "<text text-anchor=\"middle\" x=\"331.5\" y=\"-141.8\" font-family=\"Helvetica,sans-Serif\" font-size=\"14.00\">Variance &lt;= &#45;0.966</text>\r\n",
       "<text text-anchor=\"middle\" x=\"331.5\" y=\"-126.8\" font-family=\"Helvetica,sans-Serif\" font-size=\"14.00\">gini = 0.019</text>\r\n",
       "<text text-anchor=\"middle\" x=\"331.5\" y=\"-111.8\" font-family=\"Helvetica,sans-Serif\" font-size=\"14.00\">samples = 214</text>\r\n",
       "<text text-anchor=\"middle\" x=\"331.5\" y=\"-96.8\" font-family=\"Helvetica,sans-Serif\" font-size=\"14.00\">value = [2, 212]</text>\r\n",
       "</g>\r\n",
       "<!-- 9&#45;&gt;10 -->\r\n",
       "<g id=\"edge10\" class=\"edge\"><title>9&#45;&gt;10</title>\r\n",
       "<path fill=\"none\" stroke=\"black\" d=\"M425.371,-192.884C412.504,-183.442 398.361,-173.064 385.044,-163.292\"/>\r\n",
       "<polygon fill=\"black\" stroke=\"black\" points=\"387.011,-160.394 376.879,-157.299 382.87,-166.037 387.011,-160.394\"/>\r\n",
       "</g>\r\n",
       "<!-- 13 -->\r\n",
       "<g id=\"node14\" class=\"node\"><title>13</title>\r\n",
       "<path fill=\"#e58139\" fill-opacity=\"0.180392\" stroke=\"black\" d=\"M537,-157C537,-157 430,-157 430,-157 424,-157 418,-151 418,-145 418,-145 418,-101 418,-101 418,-95 424,-89 430,-89 430,-89 537,-89 537,-89 543,-89 549,-95 549,-101 549,-101 549,-145 549,-145 549,-151 543,-157 537,-157\"/>\r\n",
       "<text text-anchor=\"middle\" x=\"483.5\" y=\"-141.8\" font-family=\"Helvetica,sans-Serif\" font-size=\"14.00\">Entropy &lt;= &#45;0.032</text>\r\n",
       "<text text-anchor=\"middle\" x=\"483.5\" y=\"-126.8\" font-family=\"Helvetica,sans-Serif\" font-size=\"14.00\">gini = 0.495</text>\r\n",
       "<text text-anchor=\"middle\" x=\"483.5\" y=\"-111.8\" font-family=\"Helvetica,sans-Serif\" font-size=\"14.00\">samples = 20</text>\r\n",
       "<text text-anchor=\"middle\" x=\"483.5\" y=\"-96.8\" font-family=\"Helvetica,sans-Serif\" font-size=\"14.00\">value = [11, 9]</text>\r\n",
       "</g>\r\n",
       "<!-- 9&#45;&gt;13 -->\r\n",
       "<g id=\"edge13\" class=\"edge\"><title>9&#45;&gt;13</title>\r\n",
       "<path fill=\"none\" stroke=\"black\" d=\"M474.721,-192.884C475.754,-184.778 476.875,-175.982 477.959,-167.472\"/>\r\n",
       "<polygon fill=\"black\" stroke=\"black\" points=\"481.464,-167.662 479.256,-157.299 474.52,-166.777 481.464,-167.662\"/>\r\n",
       "</g>\r\n",
       "<!-- 11 -->\r\n",
       "<g id=\"node12\" class=\"node\"><title>11</title>\r\n",
       "<path fill=\"#399de5\" stroke=\"black\" d=\"M249,-53C249,-53 160,-53 160,-53 154,-53 148,-47 148,-41 148,-41 148,-12 148,-12 148,-6 154,-0 160,-0 160,-0 249,-0 249,-0 255,-0 261,-6 261,-12 261,-12 261,-41 261,-41 261,-47 255,-53 249,-53\"/>\r\n",
       "<text text-anchor=\"middle\" x=\"204.5\" y=\"-37.8\" font-family=\"Helvetica,sans-Serif\" font-size=\"14.00\">gini = 0.0</text>\r\n",
       "<text text-anchor=\"middle\" x=\"204.5\" y=\"-22.8\" font-family=\"Helvetica,sans-Serif\" font-size=\"14.00\">samples = 196</text>\r\n",
       "<text text-anchor=\"middle\" x=\"204.5\" y=\"-7.8\" font-family=\"Helvetica,sans-Serif\" font-size=\"14.00\">value = [0, 196]</text>\r\n",
       "</g>\r\n",
       "<!-- 10&#45;&gt;11 -->\r\n",
       "<g id=\"edge11\" class=\"edge\"><title>10&#45;&gt;11</title>\r\n",
       "<path fill=\"none\" stroke=\"black\" d=\"M287.082,-88.9485C274.173,-79.3431 260.104,-68.8747 247.297,-59.345\"/>\r\n",
       "<polygon fill=\"black\" stroke=\"black\" points=\"249.2,-56.3984 239.088,-53.2367 245.021,-62.0143 249.2,-56.3984\"/>\r\n",
       "</g>\r\n",
       "<!-- 12 -->\r\n",
       "<g id=\"node13\" class=\"node\"><title>12</title>\r\n",
       "<path fill=\"#399de5\" fill-opacity=\"0.874510\" stroke=\"black\" d=\"M372,-53C372,-53 291,-53 291,-53 285,-53 279,-47 279,-41 279,-41 279,-12 279,-12 279,-6 285,-0 291,-0 291,-0 372,-0 372,-0 378,-0 384,-6 384,-12 384,-12 384,-41 384,-41 384,-47 378,-53 372,-53\"/>\r\n",
       "<text text-anchor=\"middle\" x=\"331.5\" y=\"-37.8\" font-family=\"Helvetica,sans-Serif\" font-size=\"14.00\">gini = 0.198</text>\r\n",
       "<text text-anchor=\"middle\" x=\"331.5\" y=\"-22.8\" font-family=\"Helvetica,sans-Serif\" font-size=\"14.00\">samples = 18</text>\r\n",
       "<text text-anchor=\"middle\" x=\"331.5\" y=\"-7.8\" font-family=\"Helvetica,sans-Serif\" font-size=\"14.00\">value = [2, 16]</text>\r\n",
       "</g>\r\n",
       "<!-- 10&#45;&gt;12 -->\r\n",
       "<g id=\"edge12\" class=\"edge\"><title>10&#45;&gt;12</title>\r\n",
       "<path fill=\"none\" stroke=\"black\" d=\"M331.5,-88.9485C331.5,-80.7153 331.5,-71.848 331.5,-63.4814\"/>\r\n",
       "<polygon fill=\"black\" stroke=\"black\" points=\"335,-63.2367 331.5,-53.2367 328,-63.2367 335,-63.2367\"/>\r\n",
       "</g>\r\n",
       "<!-- 14 -->\r\n",
       "<g id=\"node15\" class=\"node\"><title>14</title>\r\n",
       "<path fill=\"#399de5\" fill-opacity=\"0.890196\" stroke=\"black\" d=\"M493,-53C493,-53 414,-53 414,-53 408,-53 402,-47 402,-41 402,-41 402,-12 402,-12 402,-6 408,-0 414,-0 414,-0 493,-0 493,-0 499,-0 505,-6 505,-12 505,-12 505,-41 505,-41 505,-47 499,-53 493,-53\"/>\r\n",
       "<text text-anchor=\"middle\" x=\"453.5\" y=\"-37.8\" font-family=\"Helvetica,sans-Serif\" font-size=\"14.00\">gini = 0.18</text>\r\n",
       "<text text-anchor=\"middle\" x=\"453.5\" y=\"-22.8\" font-family=\"Helvetica,sans-Serif\" font-size=\"14.00\">samples = 10</text>\r\n",
       "<text text-anchor=\"middle\" x=\"453.5\" y=\"-7.8\" font-family=\"Helvetica,sans-Serif\" font-size=\"14.00\">value = [1, 9]</text>\r\n",
       "</g>\r\n",
       "<!-- 13&#45;&gt;14 -->\r\n",
       "<g id=\"edge14\" class=\"edge\"><title>13&#45;&gt;14</title>\r\n",
       "<path fill=\"none\" stroke=\"black\" d=\"M473.007,-88.9485C470.336,-80.5323 467.454,-71.4536 464.746,-62.9243\"/>\r\n",
       "<polygon fill=\"black\" stroke=\"black\" points=\"468.032,-61.7089 461.67,-53.2367 461.36,-63.827 468.032,-61.7089\"/>\r\n",
       "</g>\r\n",
       "<!-- 15 -->\r\n",
       "<g id=\"node16\" class=\"node\"><title>15</title>\r\n",
       "<path fill=\"#e58139\" stroke=\"black\" d=\"M616,-53C616,-53 535,-53 535,-53 529,-53 523,-47 523,-41 523,-41 523,-12 523,-12 523,-6 529,-0 535,-0 535,-0 616,-0 616,-0 622,-0 628,-6 628,-12 628,-12 628,-41 628,-41 628,-47 622,-53 616,-53\"/>\r\n",
       "<text text-anchor=\"middle\" x=\"575.5\" y=\"-37.8\" font-family=\"Helvetica,sans-Serif\" font-size=\"14.00\">gini = 0.0</text>\r\n",
       "<text text-anchor=\"middle\" x=\"575.5\" y=\"-22.8\" font-family=\"Helvetica,sans-Serif\" font-size=\"14.00\">samples = 10</text>\r\n",
       "<text text-anchor=\"middle\" x=\"575.5\" y=\"-7.8\" font-family=\"Helvetica,sans-Serif\" font-size=\"14.00\">value = [10, 0]</text>\r\n",
       "</g>\r\n",
       "<!-- 13&#45;&gt;15 -->\r\n",
       "<g id=\"edge15\" class=\"edge\"><title>13&#45;&gt;15</title>\r\n",
       "<path fill=\"none\" stroke=\"black\" d=\"M515.677,-88.9485C524.672,-79.709 534.445,-69.671 543.433,-60.4381\"/>\r\n",
       "<polygon fill=\"black\" stroke=\"black\" points=\"545.976,-62.8434 550.444,-53.2367 540.961,-57.9605 545.976,-62.8434\"/>\r\n",
       "</g>\r\n",
       "<!-- 17 -->\r\n",
       "<g id=\"node18\" class=\"node\"><title>17</title>\r\n",
       "<path fill=\"#e58139\" fill-opacity=\"0.164706\" stroke=\"black\" d=\"M769,-157C769,-157 654,-157 654,-157 648,-157 642,-151 642,-145 642,-145 642,-101 642,-101 642,-95 648,-89 654,-89 654,-89 769,-89 769,-89 775,-89 781,-95 781,-101 781,-101 781,-145 781,-145 781,-151 775,-157 769,-157\"/>\r\n",
       "<text text-anchor=\"middle\" x=\"711.5\" y=\"-141.8\" font-family=\"Helvetica,sans-Serif\" font-size=\"14.00\">Skewness &lt;= &#45;0.36</text>\r\n",
       "<text text-anchor=\"middle\" x=\"711.5\" y=\"-126.8\" font-family=\"Helvetica,sans-Serif\" font-size=\"14.00\">gini = 0.496</text>\r\n",
       "<text text-anchor=\"middle\" x=\"711.5\" y=\"-111.8\" font-family=\"Helvetica,sans-Serif\" font-size=\"14.00\">samples = 22</text>\r\n",
       "<text text-anchor=\"middle\" x=\"711.5\" y=\"-96.8\" font-family=\"Helvetica,sans-Serif\" font-size=\"14.00\">value = [12, 10]</text>\r\n",
       "</g>\r\n",
       "<!-- 16&#45;&gt;17 -->\r\n",
       "<g id=\"edge17\" class=\"edge\"><title>16&#45;&gt;17</title>\r\n",
       "<path fill=\"none\" stroke=\"black\" d=\"M711.5,-192.884C711.5,-184.778 711.5,-175.982 711.5,-167.472\"/>\r\n",
       "<polygon fill=\"black\" stroke=\"black\" points=\"715,-167.299 711.5,-157.299 708,-167.299 715,-167.299\"/>\r\n",
       "</g>\r\n",
       "<!-- 20 -->\r\n",
       "<g id=\"node21\" class=\"node\"><title>20</title>\r\n",
       "<path fill=\"#e58139\" fill-opacity=\"0.976471\" stroke=\"black\" d=\"M995.5,-157C995.5,-157 893.5,-157 893.5,-157 887.5,-157 881.5,-151 881.5,-145 881.5,-145 881.5,-101 881.5,-101 881.5,-95 887.5,-89 893.5,-89 893.5,-89 995.5,-89 995.5,-89 1001.5,-89 1007.5,-95 1007.5,-101 1007.5,-101 1007.5,-145 1007.5,-145 1007.5,-151 1001.5,-157 995.5,-157\"/>\r\n",
       "<text text-anchor=\"middle\" x=\"944.5\" y=\"-141.8\" font-family=\"Helvetica,sans-Serif\" font-size=\"14.00\">Entropy &lt;= 1.228</text>\r\n",
       "<text text-anchor=\"middle\" x=\"944.5\" y=\"-126.8\" font-family=\"Helvetica,sans-Serif\" font-size=\"14.00\">gini = 0.043</text>\r\n",
       "<text text-anchor=\"middle\" x=\"944.5\" y=\"-111.8\" font-family=\"Helvetica,sans-Serif\" font-size=\"14.00\">samples = 45</text>\r\n",
       "<text text-anchor=\"middle\" x=\"944.5\" y=\"-96.8\" font-family=\"Helvetica,sans-Serif\" font-size=\"14.00\">value = [44, 1]</text>\r\n",
       "</g>\r\n",
       "<!-- 16&#45;&gt;20 -->\r\n",
       "<g id=\"edge20\" class=\"edge\"><title>16&#45;&gt;20</title>\r\n",
       "<path fill=\"none\" stroke=\"black\" d=\"M776.713,-197.452C806.361,-184.473 841.545,-169.07 872.018,-155.73\"/>\r\n",
       "<polygon fill=\"black\" stroke=\"black\" points=\"873.556,-158.878 881.313,-151.661 870.749,-152.465 873.556,-158.878\"/>\r\n",
       "</g>\r\n",
       "<!-- 18 -->\r\n",
       "<g id=\"node19\" class=\"node\"><title>18</title>\r\n",
       "<path fill=\"#399de5\" stroke=\"black\" d=\"M739,-53C739,-53 658,-53 658,-53 652,-53 646,-47 646,-41 646,-41 646,-12 646,-12 646,-6 652,-0 658,-0 658,-0 739,-0 739,-0 745,-0 751,-6 751,-12 751,-12 751,-41 751,-41 751,-47 745,-53 739,-53\"/>\r\n",
       "<text text-anchor=\"middle\" x=\"698.5\" y=\"-37.8\" font-family=\"Helvetica,sans-Serif\" font-size=\"14.00\">gini = 0.0</text>\r\n",
       "<text text-anchor=\"middle\" x=\"698.5\" y=\"-22.8\" font-family=\"Helvetica,sans-Serif\" font-size=\"14.00\">samples = 10</text>\r\n",
       "<text text-anchor=\"middle\" x=\"698.5\" y=\"-7.8\" font-family=\"Helvetica,sans-Serif\" font-size=\"14.00\">value = [0, 10]</text>\r\n",
       "</g>\r\n",
       "<!-- 17&#45;&gt;18 -->\r\n",
       "<g id=\"edge18\" class=\"edge\"><title>17&#45;&gt;18</title>\r\n",
       "<path fill=\"none\" stroke=\"black\" d=\"M706.953,-88.9485C705.808,-80.6238 704.574,-71.6509 703.411,-63.2027\"/>\r\n",
       "<polygon fill=\"black\" stroke=\"black\" points=\"706.871,-62.6664 702.04,-53.2367 699.936,-63.6204 706.871,-62.6664\"/>\r\n",
       "</g>\r\n",
       "<!-- 19 -->\r\n",
       "<g id=\"node20\" class=\"node\"><title>19</title>\r\n",
       "<path fill=\"#e58139\" stroke=\"black\" d=\"M862,-53C862,-53 781,-53 781,-53 775,-53 769,-47 769,-41 769,-41 769,-12 769,-12 769,-6 775,-0 781,-0 781,-0 862,-0 862,-0 868,-0 874,-6 874,-12 874,-12 874,-41 874,-41 874,-47 868,-53 862,-53\"/>\r\n",
       "<text text-anchor=\"middle\" x=\"821.5\" y=\"-37.8\" font-family=\"Helvetica,sans-Serif\" font-size=\"14.00\">gini = 0.0</text>\r\n",
       "<text text-anchor=\"middle\" x=\"821.5\" y=\"-22.8\" font-family=\"Helvetica,sans-Serif\" font-size=\"14.00\">samples = 12</text>\r\n",
       "<text text-anchor=\"middle\" x=\"821.5\" y=\"-7.8\" font-family=\"Helvetica,sans-Serif\" font-size=\"14.00\">value = [12, 0]</text>\r\n",
       "</g>\r\n",
       "<!-- 17&#45;&gt;19 -->\r\n",
       "<g id=\"edge19\" class=\"edge\"><title>17&#45;&gt;19</title>\r\n",
       "<path fill=\"none\" stroke=\"black\" d=\"M749.973,-88.9485C760.941,-79.526 772.875,-69.2731 783.797,-59.8906\"/>\r\n",
       "<polygon fill=\"black\" stroke=\"black\" points=\"786.237,-62.408 791.542,-53.2367 781.676,-57.0983 786.237,-62.408\"/>\r\n",
       "</g>\r\n",
       "<!-- 21 -->\r\n",
       "<g id=\"node22\" class=\"node\"><title>21</title>\r\n",
       "<path fill=\"#e58139\" stroke=\"black\" d=\"M985,-53C985,-53 904,-53 904,-53 898,-53 892,-47 892,-41 892,-41 892,-12 892,-12 892,-6 898,-0 904,-0 904,-0 985,-0 985,-0 991,-0 997,-6 997,-12 997,-12 997,-41 997,-41 997,-47 991,-53 985,-53\"/>\r\n",
       "<text text-anchor=\"middle\" x=\"944.5\" y=\"-37.8\" font-family=\"Helvetica,sans-Serif\" font-size=\"14.00\">gini = 0.0</text>\r\n",
       "<text text-anchor=\"middle\" x=\"944.5\" y=\"-22.8\" font-family=\"Helvetica,sans-Serif\" font-size=\"14.00\">samples = 44</text>\r\n",
       "<text text-anchor=\"middle\" x=\"944.5\" y=\"-7.8\" font-family=\"Helvetica,sans-Serif\" font-size=\"14.00\">value = [44, 0]</text>\r\n",
       "</g>\r\n",
       "<!-- 20&#45;&gt;21 -->\r\n",
       "<g id=\"edge21\" class=\"edge\"><title>20&#45;&gt;21</title>\r\n",
       "<path fill=\"none\" stroke=\"black\" d=\"M944.5,-88.9485C944.5,-80.7153 944.5,-71.848 944.5,-63.4814\"/>\r\n",
       "<polygon fill=\"black\" stroke=\"black\" points=\"948,-63.2367 944.5,-53.2367 941,-63.2367 948,-63.2367\"/>\r\n",
       "</g>\r\n",
       "<!-- 22 -->\r\n",
       "<g id=\"node23\" class=\"node\"><title>22</title>\r\n",
       "<path fill=\"#399de5\" stroke=\"black\" d=\"M1100,-53C1100,-53 1027,-53 1027,-53 1021,-53 1015,-47 1015,-41 1015,-41 1015,-12 1015,-12 1015,-6 1021,-0 1027,-0 1027,-0 1100,-0 1100,-0 1106,-0 1112,-6 1112,-12 1112,-12 1112,-41 1112,-41 1112,-47 1106,-53 1100,-53\"/>\r\n",
       "<text text-anchor=\"middle\" x=\"1063.5\" y=\"-37.8\" font-family=\"Helvetica,sans-Serif\" font-size=\"14.00\">gini = 0.0</text>\r\n",
       "<text text-anchor=\"middle\" x=\"1063.5\" y=\"-22.8\" font-family=\"Helvetica,sans-Serif\" font-size=\"14.00\">samples = 1</text>\r\n",
       "<text text-anchor=\"middle\" x=\"1063.5\" y=\"-7.8\" font-family=\"Helvetica,sans-Serif\" font-size=\"14.00\">value = [0, 1]</text>\r\n",
       "</g>\r\n",
       "<!-- 20&#45;&gt;22 -->\r\n",
       "<g id=\"edge22\" class=\"edge\"><title>20&#45;&gt;22</title>\r\n",
       "<path fill=\"none\" stroke=\"black\" d=\"M986.12,-88.9485C998.101,-79.4346 1011.15,-69.074 1023.06,-59.6175\"/>\r\n",
       "<polygon fill=\"black\" stroke=\"black\" points=\"1025.44,-62.1965 1031.09,-53.2367 1021.08,-56.7147 1025.44,-62.1965\"/>\r\n",
       "</g>\r\n",
       "<!-- 24 -->\r\n",
       "<g id=\"node25\" class=\"node\"><title>24</title>\r\n",
       "<path fill=\"#399de5\" stroke=\"black\" d=\"M642,-357.5C642,-357.5 569,-357.5 569,-357.5 563,-357.5 557,-351.5 557,-345.5 557,-345.5 557,-316.5 557,-316.5 557,-310.5 563,-304.5 569,-304.5 569,-304.5 642,-304.5 642,-304.5 648,-304.5 654,-310.5 654,-316.5 654,-316.5 654,-345.5 654,-345.5 654,-351.5 648,-357.5 642,-357.5\"/>\r\n",
       "<text text-anchor=\"middle\" x=\"605.5\" y=\"-342.3\" font-family=\"Helvetica,sans-Serif\" font-size=\"14.00\">gini = 0.0</text>\r\n",
       "<text text-anchor=\"middle\" x=\"605.5\" y=\"-327.3\" font-family=\"Helvetica,sans-Serif\" font-size=\"14.00\">samples = 8</text>\r\n",
       "<text text-anchor=\"middle\" x=\"605.5\" y=\"-312.3\" font-family=\"Helvetica,sans-Serif\" font-size=\"14.00\">value = [0, 8]</text>\r\n",
       "</g>\r\n",
       "<!-- 23&#45;&gt;24 -->\r\n",
       "<g id=\"edge24\" class=\"edge\"><title>23&#45;&gt;24</title>\r\n",
       "<path fill=\"none\" stroke=\"black\" d=\"M665.604,-400.884C655.624,-389.446 644.445,-376.634 634.46,-365.19\"/>\r\n",
       "<polygon fill=\"black\" stroke=\"black\" points=\"636.979,-362.754 627.767,-357.52 631.705,-367.356 636.979,-362.754\"/>\r\n",
       "</g>\r\n",
       "<!-- 25 -->\r\n",
       "<g id=\"node26\" class=\"node\"><title>25</title>\r\n",
       "<path fill=\"#e58139\" stroke=\"black\" d=\"M773,-357.5C773,-357.5 684,-357.5 684,-357.5 678,-357.5 672,-351.5 672,-345.5 672,-345.5 672,-316.5 672,-316.5 672,-310.5 678,-304.5 684,-304.5 684,-304.5 773,-304.5 773,-304.5 779,-304.5 785,-310.5 785,-316.5 785,-316.5 785,-345.5 785,-345.5 785,-351.5 779,-357.5 773,-357.5\"/>\r\n",
       "<text text-anchor=\"middle\" x=\"728.5\" y=\"-342.3\" font-family=\"Helvetica,sans-Serif\" font-size=\"14.00\">gini = 0.0</text>\r\n",
       "<text text-anchor=\"middle\" x=\"728.5\" y=\"-327.3\" font-family=\"Helvetica,sans-Serif\" font-size=\"14.00\">samples = 209</text>\r\n",
       "<text text-anchor=\"middle\" x=\"728.5\" y=\"-312.3\" font-family=\"Helvetica,sans-Serif\" font-size=\"14.00\">value = [209, 0]</text>\r\n",
       "</g>\r\n",
       "<!-- 23&#45;&gt;25 -->\r\n",
       "<g id=\"edge25\" class=\"edge\"><title>23&#45;&gt;25</title>\r\n",
       "<path fill=\"none\" stroke=\"black\" d=\"M705.539,-400.884C709.131,-390.106 713.131,-378.108 716.772,-367.184\"/>\r\n",
       "<polygon fill=\"black\" stroke=\"black\" points=\"720.151,-368.114 719.993,-357.52 713.511,-365.9 720.151,-368.114\"/>\r\n",
       "</g>\r\n",
       "<!-- 27 -->\r\n",
       "<g id=\"node28\" class=\"node\"><title>27</title>\r\n",
       "<path fill=\"#399de5\" fill-opacity=\"0.149020\" stroke=\"black\" d=\"M945,-469C945,-469 832,-469 832,-469 826,-469 820,-463 820,-457 820,-457 820,-413 820,-413 820,-407 826,-401 832,-401 832,-401 945,-401 945,-401 951,-401 957,-407 957,-413 957,-413 957,-457 957,-457 957,-463 951,-469 945,-469\"/>\r\n",
       "<text text-anchor=\"middle\" x=\"888.5\" y=\"-453.8\" font-family=\"Helvetica,sans-Serif\" font-size=\"14.00\">Variance &lt;= &#45;3.423</text>\r\n",
       "<text text-anchor=\"middle\" x=\"888.5\" y=\"-438.8\" font-family=\"Helvetica,sans-Serif\" font-size=\"14.00\">gini = 0.497</text>\r\n",
       "<text text-anchor=\"middle\" x=\"888.5\" y=\"-423.8\" font-family=\"Helvetica,sans-Serif\" font-size=\"14.00\">samples = 37</text>\r\n",
       "<text text-anchor=\"middle\" x=\"888.5\" y=\"-408.8\" font-family=\"Helvetica,sans-Serif\" font-size=\"14.00\">value = [17, 20]</text>\r\n",
       "</g>\r\n",
       "<!-- 26&#45;&gt;27 -->\r\n",
       "<g id=\"edge27\" class=\"edge\"><title>26&#45;&gt;27</title>\r\n",
       "<path fill=\"none\" stroke=\"black\" d=\"M888.5,-504.884C888.5,-496.778 888.5,-487.982 888.5,-479.472\"/>\r\n",
       "<polygon fill=\"black\" stroke=\"black\" points=\"892,-479.299 888.5,-469.299 885,-479.299 892,-479.299\"/>\r\n",
       "</g>\r\n",
       "<!-- 32 -->\r\n",
       "<g id=\"node33\" class=\"node\"><title>32</title>\r\n",
       "<path fill=\"#e58139\" fill-opacity=\"0.952941\" stroke=\"black\" d=\"M1221,-469C1221,-469 1114,-469 1114,-469 1108,-469 1102,-463 1102,-457 1102,-457 1102,-413 1102,-413 1102,-407 1108,-401 1114,-401 1114,-401 1221,-401 1221,-401 1227,-401 1233,-407 1233,-413 1233,-413 1233,-457 1233,-457 1233,-463 1227,-469 1221,-469\"/>\r\n",
       "<text text-anchor=\"middle\" x=\"1167.5\" y=\"-453.8\" font-family=\"Helvetica,sans-Serif\" font-size=\"14.00\">Entropy &lt;= &#45;4.482</text>\r\n",
       "<text text-anchor=\"middle\" x=\"1167.5\" y=\"-438.8\" font-family=\"Helvetica,sans-Serif\" font-size=\"14.00\">gini = 0.084</text>\r\n",
       "<text text-anchor=\"middle\" x=\"1167.5\" y=\"-423.8\" font-family=\"Helvetica,sans-Serif\" font-size=\"14.00\">samples = 317</text>\r\n",
       "<text text-anchor=\"middle\" x=\"1167.5\" y=\"-408.8\" font-family=\"Helvetica,sans-Serif\" font-size=\"14.00\">value = [303, 14]</text>\r\n",
       "</g>\r\n",
       "<!-- 26&#45;&gt;32 -->\r\n",
       "<g id=\"edge32\" class=\"edge\"><title>26&#45;&gt;32</title>\r\n",
       "<path fill=\"none\" stroke=\"black\" d=\"M954.266,-513.957C995.604,-498.844 1049.06,-479.299 1092.11,-463.561\"/>\r\n",
       "<polygon fill=\"black\" stroke=\"black\" points=\"1093.5,-466.779 1101.69,-460.059 1091.1,-460.205 1093.5,-466.779\"/>\r\n",
       "</g>\r\n",
       "<!-- 28 -->\r\n",
       "<g id=\"node29\" class=\"node\"><title>28</title>\r\n",
       "<path fill=\"#399de5\" stroke=\"black\" d=\"M896,-357.5C896,-357.5 815,-357.5 815,-357.5 809,-357.5 803,-351.5 803,-345.5 803,-345.5 803,-316.5 803,-316.5 803,-310.5 809,-304.5 815,-304.5 815,-304.5 896,-304.5 896,-304.5 902,-304.5 908,-310.5 908,-316.5 908,-316.5 908,-345.5 908,-345.5 908,-351.5 902,-357.5 896,-357.5\"/>\r\n",
       "<text text-anchor=\"middle\" x=\"855.5\" y=\"-342.3\" font-family=\"Helvetica,sans-Serif\" font-size=\"14.00\">gini = 0.0</text>\r\n",
       "<text text-anchor=\"middle\" x=\"855.5\" y=\"-327.3\" font-family=\"Helvetica,sans-Serif\" font-size=\"14.00\">samples = 19</text>\r\n",
       "<text text-anchor=\"middle\" x=\"855.5\" y=\"-312.3\" font-family=\"Helvetica,sans-Serif\" font-size=\"14.00\">value = [0, 19]</text>\r\n",
       "</g>\r\n",
       "<!-- 27&#45;&gt;28 -->\r\n",
       "<g id=\"edge28\" class=\"edge\"><title>27&#45;&gt;28</title>\r\n",
       "<path fill=\"none\" stroke=\"black\" d=\"M877.786,-400.884C874.299,-390.106 870.417,-378.108 866.883,-367.184\"/>\r\n",
       "<polygon fill=\"black\" stroke=\"black\" points=\"870.165,-365.957 863.756,-357.52 863.505,-368.112 870.165,-365.957\"/>\r\n",
       "</g>\r\n",
       "<!-- 29 -->\r\n",
       "<g id=\"node30\" class=\"node\"><title>29</title>\r\n",
       "<path fill=\"#e58139\" fill-opacity=\"0.941176\" stroke=\"black\" d=\"M1047,-365C1047,-365 938,-365 938,-365 932,-365 926,-359 926,-353 926,-353 926,-309 926,-309 926,-303 932,-297 938,-297 938,-297 1047,-297 1047,-297 1053,-297 1059,-303 1059,-309 1059,-309 1059,-353 1059,-353 1059,-359 1053,-365 1047,-365\"/>\r\n",
       "<text text-anchor=\"middle\" x=\"992.5\" y=\"-349.8\" font-family=\"Helvetica,sans-Serif\" font-size=\"14.00\">Variance &lt;= 0.443</text>\r\n",
       "<text text-anchor=\"middle\" x=\"992.5\" y=\"-334.8\" font-family=\"Helvetica,sans-Serif\" font-size=\"14.00\">gini = 0.105</text>\r\n",
       "<text text-anchor=\"middle\" x=\"992.5\" y=\"-319.8\" font-family=\"Helvetica,sans-Serif\" font-size=\"14.00\">samples = 18</text>\r\n",
       "<text text-anchor=\"middle\" x=\"992.5\" y=\"-304.8\" font-family=\"Helvetica,sans-Serif\" font-size=\"14.00\">value = [17, 1]</text>\r\n",
       "</g>\r\n",
       "<!-- 27&#45;&gt;29 -->\r\n",
       "<g id=\"edge29\" class=\"edge\"><title>27&#45;&gt;29</title>\r\n",
       "<path fill=\"none\" stroke=\"black\" d=\"M922.266,-400.884C931.529,-391.798 941.677,-381.845 951.307,-372.4\"/>\r\n",
       "<polygon fill=\"black\" stroke=\"black\" points=\"953.859,-374.8 958.548,-365.299 948.958,-369.803 953.859,-374.8\"/>\r\n",
       "</g>\r\n",
       "<!-- 30 -->\r\n",
       "<g id=\"node31\" class=\"node\"><title>30</title>\r\n",
       "<path fill=\"#e58139\" stroke=\"black\" d=\"M914,-253.5C914,-253.5 833,-253.5 833,-253.5 827,-253.5 821,-247.5 821,-241.5 821,-241.5 821,-212.5 821,-212.5 821,-206.5 827,-200.5 833,-200.5 833,-200.5 914,-200.5 914,-200.5 920,-200.5 926,-206.5 926,-212.5 926,-212.5 926,-241.5 926,-241.5 926,-247.5 920,-253.5 914,-253.5\"/>\r\n",
       "<text text-anchor=\"middle\" x=\"873.5\" y=\"-238.3\" font-family=\"Helvetica,sans-Serif\" font-size=\"14.00\">gini = 0.0</text>\r\n",
       "<text text-anchor=\"middle\" x=\"873.5\" y=\"-223.3\" font-family=\"Helvetica,sans-Serif\" font-size=\"14.00\">samples = 17</text>\r\n",
       "<text text-anchor=\"middle\" x=\"873.5\" y=\"-208.3\" font-family=\"Helvetica,sans-Serif\" font-size=\"14.00\">value = [17, 0]</text>\r\n",
       "</g>\r\n",
       "<!-- 29&#45;&gt;30 -->\r\n",
       "<g id=\"edge30\" class=\"edge\"><title>29&#45;&gt;30</title>\r\n",
       "<path fill=\"none\" stroke=\"black\" d=\"M953.864,-296.884C940.135,-285.116 924.709,-271.894 911.071,-260.203\"/>\r\n",
       "<polygon fill=\"black\" stroke=\"black\" points=\"913.144,-257.37 903.273,-253.52 908.588,-262.685 913.144,-257.37\"/>\r\n",
       "</g>\r\n",
       "<!-- 31 -->\r\n",
       "<g id=\"node32\" class=\"node\"><title>31</title>\r\n",
       "<path fill=\"#399de5\" stroke=\"black\" d=\"M1029,-253.5C1029,-253.5 956,-253.5 956,-253.5 950,-253.5 944,-247.5 944,-241.5 944,-241.5 944,-212.5 944,-212.5 944,-206.5 950,-200.5 956,-200.5 956,-200.5 1029,-200.5 1029,-200.5 1035,-200.5 1041,-206.5 1041,-212.5 1041,-212.5 1041,-241.5 1041,-241.5 1041,-247.5 1035,-253.5 1029,-253.5\"/>\r\n",
       "<text text-anchor=\"middle\" x=\"992.5\" y=\"-238.3\" font-family=\"Helvetica,sans-Serif\" font-size=\"14.00\">gini = 0.0</text>\r\n",
       "<text text-anchor=\"middle\" x=\"992.5\" y=\"-223.3\" font-family=\"Helvetica,sans-Serif\" font-size=\"14.00\">samples = 1</text>\r\n",
       "<text text-anchor=\"middle\" x=\"992.5\" y=\"-208.3\" font-family=\"Helvetica,sans-Serif\" font-size=\"14.00\">value = [0, 1]</text>\r\n",
       "</g>\r\n",
       "<!-- 29&#45;&gt;31 -->\r\n",
       "<g id=\"edge31\" class=\"edge\"><title>29&#45;&gt;31</title>\r\n",
       "<path fill=\"none\" stroke=\"black\" d=\"M992.5,-296.884C992.5,-286.326 992.5,-274.597 992.5,-263.854\"/>\r\n",
       "<polygon fill=\"black\" stroke=\"black\" points=\"996,-263.52 992.5,-253.52 989,-263.52 996,-263.52\"/>\r\n",
       "</g>\r\n",
       "<!-- 33 -->\r\n",
       "<g id=\"node34\" class=\"node\"><title>33</title>\r\n",
       "<path fill=\"#e58139\" fill-opacity=\"0.749020\" stroke=\"black\" d=\"M1224,-365C1224,-365 1111,-365 1111,-365 1105,-365 1099,-359 1099,-353 1099,-353 1099,-309 1099,-309 1099,-303 1105,-297 1111,-297 1111,-297 1224,-297 1224,-297 1230,-297 1236,-303 1236,-309 1236,-309 1236,-353 1236,-353 1236,-359 1230,-365 1224,-365\"/>\r\n",
       "<text text-anchor=\"middle\" x=\"1167.5\" y=\"-349.8\" font-family=\"Helvetica,sans-Serif\" font-size=\"14.00\">Variance &lt;= &#45;3.368</text>\r\n",
       "<text text-anchor=\"middle\" x=\"1167.5\" y=\"-334.8\" font-family=\"Helvetica,sans-Serif\" font-size=\"14.00\">gini = 0.32</text>\r\n",
       "<text text-anchor=\"middle\" x=\"1167.5\" y=\"-319.8\" font-family=\"Helvetica,sans-Serif\" font-size=\"14.00\">samples = 40</text>\r\n",
       "<text text-anchor=\"middle\" x=\"1167.5\" y=\"-304.8\" font-family=\"Helvetica,sans-Serif\" font-size=\"14.00\">value = [32, 8]</text>\r\n",
       "</g>\r\n",
       "<!-- 32&#45;&gt;33 -->\r\n",
       "<g id=\"edge33\" class=\"edge\"><title>32&#45;&gt;33</title>\r\n",
       "<path fill=\"none\" stroke=\"black\" d=\"M1167.5,-400.884C1167.5,-392.778 1167.5,-383.982 1167.5,-375.472\"/>\r\n",
       "<polygon fill=\"black\" stroke=\"black\" points=\"1171,-375.299 1167.5,-365.299 1164,-375.299 1171,-375.299\"/>\r\n",
       "</g>\r\n",
       "<!-- 36 -->\r\n",
       "<g id=\"node37\" class=\"node\"><title>36</title>\r\n",
       "<path fill=\"#e58139\" fill-opacity=\"0.976471\" stroke=\"black\" d=\"M1402,-365C1402,-365 1289,-365 1289,-365 1283,-365 1277,-359 1277,-353 1277,-353 1277,-309 1277,-309 1277,-303 1283,-297 1289,-297 1289,-297 1402,-297 1402,-297 1408,-297 1414,-303 1414,-309 1414,-309 1414,-353 1414,-353 1414,-359 1408,-365 1402,-365\"/>\r\n",
       "<text text-anchor=\"middle\" x=\"1345.5\" y=\"-349.8\" font-family=\"Helvetica,sans-Serif\" font-size=\"14.00\">Variance &lt;= &#45;5.084</text>\r\n",
       "<text text-anchor=\"middle\" x=\"1345.5\" y=\"-334.8\" font-family=\"Helvetica,sans-Serif\" font-size=\"14.00\">gini = 0.042</text>\r\n",
       "<text text-anchor=\"middle\" x=\"1345.5\" y=\"-319.8\" font-family=\"Helvetica,sans-Serif\" font-size=\"14.00\">samples = 277</text>\r\n",
       "<text text-anchor=\"middle\" x=\"1345.5\" y=\"-304.8\" font-family=\"Helvetica,sans-Serif\" font-size=\"14.00\">value = [271, 6]</text>\r\n",
       "</g>\r\n",
       "<!-- 32&#45;&gt;36 -->\r\n",
       "<g id=\"edge36\" class=\"edge\"><title>32&#45;&gt;36</title>\r\n",
       "<path fill=\"none\" stroke=\"black\" d=\"M1225.29,-400.884C1242.32,-391.125 1261.1,-380.366 1278.64,-370.31\"/>\r\n",
       "<polygon fill=\"black\" stroke=\"black\" points=\"1280.76,-373.133 1287.69,-365.125 1277.28,-367.06 1280.76,-373.133\"/>\r\n",
       "</g>\r\n",
       "<!-- 34 -->\r\n",
       "<g id=\"node35\" class=\"node\"><title>34</title>\r\n",
       "<path fill=\"#399de5\" stroke=\"black\" d=\"M1144,-253.5C1144,-253.5 1071,-253.5 1071,-253.5 1065,-253.5 1059,-247.5 1059,-241.5 1059,-241.5 1059,-212.5 1059,-212.5 1059,-206.5 1065,-200.5 1071,-200.5 1071,-200.5 1144,-200.5 1144,-200.5 1150,-200.5 1156,-206.5 1156,-212.5 1156,-212.5 1156,-241.5 1156,-241.5 1156,-247.5 1150,-253.5 1144,-253.5\"/>\r\n",
       "<text text-anchor=\"middle\" x=\"1107.5\" y=\"-238.3\" font-family=\"Helvetica,sans-Serif\" font-size=\"14.00\">gini = 0.0</text>\r\n",
       "<text text-anchor=\"middle\" x=\"1107.5\" y=\"-223.3\" font-family=\"Helvetica,sans-Serif\" font-size=\"14.00\">samples = 8</text>\r\n",
       "<text text-anchor=\"middle\" x=\"1107.5\" y=\"-208.3\" font-family=\"Helvetica,sans-Serif\" font-size=\"14.00\">value = [0, 8]</text>\r\n",
       "</g>\r\n",
       "<!-- 33&#45;&gt;34 -->\r\n",
       "<g id=\"edge34\" class=\"edge\"><title>33&#45;&gt;34</title>\r\n",
       "<path fill=\"none\" stroke=\"black\" d=\"M1148.02,-296.884C1141.49,-285.776 1134.19,-273.372 1127.61,-262.184\"/>\r\n",
       "<polygon fill=\"black\" stroke=\"black\" points=\"1130.6,-260.365 1122.51,-253.52 1124.57,-263.914 1130.6,-260.365\"/>\r\n",
       "</g>\r\n",
       "<!-- 35 -->\r\n",
       "<g id=\"node36\" class=\"node\"><title>35</title>\r\n",
       "<path fill=\"#e58139\" stroke=\"black\" d=\"M1267,-253.5C1267,-253.5 1186,-253.5 1186,-253.5 1180,-253.5 1174,-247.5 1174,-241.5 1174,-241.5 1174,-212.5 1174,-212.5 1174,-206.5 1180,-200.5 1186,-200.5 1186,-200.5 1267,-200.5 1267,-200.5 1273,-200.5 1279,-206.5 1279,-212.5 1279,-212.5 1279,-241.5 1279,-241.5 1279,-247.5 1273,-253.5 1267,-253.5\"/>\r\n",
       "<text text-anchor=\"middle\" x=\"1226.5\" y=\"-238.3\" font-family=\"Helvetica,sans-Serif\" font-size=\"14.00\">gini = 0.0</text>\r\n",
       "<text text-anchor=\"middle\" x=\"1226.5\" y=\"-223.3\" font-family=\"Helvetica,sans-Serif\" font-size=\"14.00\">samples = 32</text>\r\n",
       "<text text-anchor=\"middle\" x=\"1226.5\" y=\"-208.3\" font-family=\"Helvetica,sans-Serif\" font-size=\"14.00\">value = [32, 0]</text>\r\n",
       "</g>\r\n",
       "<!-- 33&#45;&gt;35 -->\r\n",
       "<g id=\"edge35\" class=\"edge\"><title>33&#45;&gt;35</title>\r\n",
       "<path fill=\"none\" stroke=\"black\" d=\"M1186.66,-296.884C1193.08,-285.776 1200.26,-273.372 1206.73,-262.184\"/>\r\n",
       "<polygon fill=\"black\" stroke=\"black\" points=\"1209.76,-263.929 1211.74,-253.52 1203.7,-260.424 1209.76,-263.929\"/>\r\n",
       "</g>\r\n",
       "<!-- 37 -->\r\n",
       "<g id=\"node38\" class=\"node\"><title>37</title>\r\n",
       "<path fill=\"#399de5\" stroke=\"black\" d=\"M1382,-253.5C1382,-253.5 1309,-253.5 1309,-253.5 1303,-253.5 1297,-247.5 1297,-241.5 1297,-241.5 1297,-212.5 1297,-212.5 1297,-206.5 1303,-200.5 1309,-200.5 1309,-200.5 1382,-200.5 1382,-200.5 1388,-200.5 1394,-206.5 1394,-212.5 1394,-212.5 1394,-241.5 1394,-241.5 1394,-247.5 1388,-253.5 1382,-253.5\"/>\r\n",
       "<text text-anchor=\"middle\" x=\"1345.5\" y=\"-238.3\" font-family=\"Helvetica,sans-Serif\" font-size=\"14.00\">gini = 0.0</text>\r\n",
       "<text text-anchor=\"middle\" x=\"1345.5\" y=\"-223.3\" font-family=\"Helvetica,sans-Serif\" font-size=\"14.00\">samples = 6</text>\r\n",
       "<text text-anchor=\"middle\" x=\"1345.5\" y=\"-208.3\" font-family=\"Helvetica,sans-Serif\" font-size=\"14.00\">value = [0, 6]</text>\r\n",
       "</g>\r\n",
       "<!-- 36&#45;&gt;37 -->\r\n",
       "<g id=\"edge37\" class=\"edge\"><title>36&#45;&gt;37</title>\r\n",
       "<path fill=\"none\" stroke=\"black\" d=\"M1345.5,-296.884C1345.5,-286.326 1345.5,-274.597 1345.5,-263.854\"/>\r\n",
       "<polygon fill=\"black\" stroke=\"black\" points=\"1349,-263.52 1345.5,-253.52 1342,-263.52 1349,-263.52\"/>\r\n",
       "</g>\r\n",
       "<!-- 38 -->\r\n",
       "<g id=\"node39\" class=\"node\"><title>38</title>\r\n",
       "<path fill=\"#e58139\" stroke=\"black\" d=\"M1513,-253.5C1513,-253.5 1424,-253.5 1424,-253.5 1418,-253.5 1412,-247.5 1412,-241.5 1412,-241.5 1412,-212.5 1412,-212.5 1412,-206.5 1418,-200.5 1424,-200.5 1424,-200.5 1513,-200.5 1513,-200.5 1519,-200.5 1525,-206.5 1525,-212.5 1525,-212.5 1525,-241.5 1525,-241.5 1525,-247.5 1519,-253.5 1513,-253.5\"/>\r\n",
       "<text text-anchor=\"middle\" x=\"1468.5\" y=\"-238.3\" font-family=\"Helvetica,sans-Serif\" font-size=\"14.00\">gini = 0.0</text>\r\n",
       "<text text-anchor=\"middle\" x=\"1468.5\" y=\"-223.3\" font-family=\"Helvetica,sans-Serif\" font-size=\"14.00\">samples = 271</text>\r\n",
       "<text text-anchor=\"middle\" x=\"1468.5\" y=\"-208.3\" font-family=\"Helvetica,sans-Serif\" font-size=\"14.00\">value = [271, 0]</text>\r\n",
       "</g>\r\n",
       "<!-- 36&#45;&gt;38 -->\r\n",
       "<g id=\"edge38\" class=\"edge\"><title>36&#45;&gt;38</title>\r\n",
       "<path fill=\"none\" stroke=\"black\" d=\"M1385.43,-296.884C1399.63,-285.116 1415.57,-271.894 1429.67,-260.203\"/>\r\n",
       "<polygon fill=\"black\" stroke=\"black\" points=\"1432.26,-262.597 1437.73,-253.52 1427.79,-257.209 1432.26,-262.597\"/>\r\n",
       "</g>\r\n",
       "</g>\r\n",
       "</svg>\r\n"
      ],
      "text/plain": [
       "<graphviz.files.Source at 0x20d0f940c88>"
      ]
     },
     "execution_count": 46,
     "metadata": {},
     "output_type": "execute_result"
    }
   ],
   "source": [
    "graphviz.Source(egb)"
   ]
  },
  {
   "cell_type": "markdown",
   "metadata": {},
   "source": [
    "## Thank you !"
   ]
  }
 ],
 "metadata": {
  "kernelspec": {
   "display_name": "Python 3",
   "language": "python",
   "name": "python3"
  },
  "language_info": {
   "codemirror_mode": {
    "name": "ipython",
    "version": 3
   },
   "file_extension": ".py",
   "mimetype": "text/x-python",
   "name": "python",
   "nbconvert_exporter": "python",
   "pygments_lexer": "ipython3",
   "version": "3.6.5"
  }
 },
 "nbformat": 4,
 "nbformat_minor": 2
}
